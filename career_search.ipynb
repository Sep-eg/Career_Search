{
  "nbformat": 4,
  "nbformat_minor": 0,
  "metadata": {
    "colab": {
      "name": "Section2_Project_김기훈.ipynb",
      "provenance": [],
      "include_colab_link": true
    },
    "kernelspec": {
      "display_name": "Python 3",
      "language": "python",
      "name": "python3"
    },
    "language_info": {
      "codemirror_mode": {
        "name": "ipython",
        "version": 3
      },
      "file_extension": ".py",
      "mimetype": "text/x-python",
      "name": "python",
      "nbconvert_exporter": "python",
      "pygments_lexer": "ipython3",
      "version": "3.8.5"
    }
  },
  "cells": [
    {
      "cell_type": "markdown",
      "metadata": {
        "id": "view-in-github",
        "colab_type": "text"
      },
      "source": [
        "<a href=\"https://colab.research.google.com/github/Sep-eg/career_search/blob/main/career_search.ipynb\" target=\"_parent\"><img src=\"https://colab.research.google.com/assets/colab-badge.svg\" alt=\"Open In Colab\"/></a>"
      ]
    },
    {
      "cell_type": "markdown",
      "metadata": {
        "id": "o4BV2aqxJ1VH"
      },
      "source": [
        "# AI BootCamp Section2 Project"
      ]
    },
    {
      "cell_type": "markdown",
      "metadata": {
        "id": "J6o9gfTRJ1VJ"
      },
      "source": [
        "## 학생의 공부환경과 진로희망"
      ]
    },
    {
      "cell_type": "markdown",
      "metadata": {
        "id": "21ukaETbJ1VJ"
      },
      "source": [
        "학창 시절 학기 초가 되면 늘 하던 조사가 있습니다. 바로 진로희망 조사입니다.\n",
        "\n",
        "분명한 자신만의 꿈, 혹은 계획을 가지고 진로희망 조사에 임하는 학생들도 있겠지만,\n",
        "\n",
        "사실 많은 학생들은 자신이 하고 싶은 것이 무엇인지 모르고 그저 남들이 많이 적는 것,\n",
        "\n",
        "혹은 사회적으로 인정받거나 돈을 많이 번다고 알려진 진로를 희망하는 경우가 많습니다.\n",
        "\n",
        "저는 그런 때를 떠올리며 이런 생각을 하였습니다. 학생들이 자기가 하고 싶은 것을 좀 더 쉽게 알 수 있다면,\n",
        "\n",
        "하다못해 커다란 방향성 하나만이라도 결정하는 데 도움을 줄 수 있다면 얼마나 좋을까?\n",
        "\n",
        "저는 그래서 학생들의 주변 환경, 성적 등에 관련된 정보를 찾아보았고, MDIS에서 제공하는 '초중고 사교육비 조사' 데이터를\n",
        "\n",
        "이용하여 학생들의 사교육, 주변 환경 등을 통해 어떠한 진로를 희망하면 좋을지 예측해보기로 하였습니다."
      ]
    },
    {
      "cell_type": "code",
      "metadata": {
        "colab": {
          "base_uri": "https://localhost:8080/",
          "height": 902
        },
        "id": "y6bdny9TKAur",
        "outputId": "f15c593d-06d1-46cd-a57b-fa21326af8e2"
      },
      "source": [
        "# !pip install pdpbox\n",
        "# !pip install eli5"
      ],
      "execution_count": null,
      "outputs": [
        {
          "output_type": "stream",
          "text": [
            "Collecting pdpbox\n",
            "  Downloading PDPbox-0.2.1.tar.gz (34.0 MB)\n",
            "\u001b[K     |████████████████████████████████| 34.0 MB 36 kB/s \n",
            "\u001b[?25hRequirement already satisfied: pandas in /usr/local/lib/python3.7/dist-packages (from pdpbox) (1.1.5)\n",
            "Requirement already satisfied: numpy in /usr/local/lib/python3.7/dist-packages (from pdpbox) (1.19.5)\n",
            "Requirement already satisfied: scipy in /usr/local/lib/python3.7/dist-packages (from pdpbox) (1.4.1)\n",
            "Requirement already satisfied: joblib in /usr/local/lib/python3.7/dist-packages (from pdpbox) (1.0.1)\n",
            "Requirement already satisfied: psutil in /usr/local/lib/python3.7/dist-packages (from pdpbox) (5.4.8)\n",
            "Collecting matplotlib==3.1.1\n",
            "  Downloading matplotlib-3.1.1-cp37-cp37m-manylinux1_x86_64.whl (13.1 MB)\n",
            "\u001b[K     |████████████████████████████████| 13.1 MB 6.6 kB/s \n",
            "\u001b[?25hRequirement already satisfied: sklearn in /usr/local/lib/python3.7/dist-packages (from pdpbox) (0.0)\n",
            "Requirement already satisfied: pyparsing!=2.0.4,!=2.1.2,!=2.1.6,>=2.0.1 in /usr/local/lib/python3.7/dist-packages (from matplotlib==3.1.1->pdpbox) (2.4.7)\n",
            "Requirement already satisfied: python-dateutil>=2.1 in /usr/local/lib/python3.7/dist-packages (from matplotlib==3.1.1->pdpbox) (2.8.1)\n",
            "Requirement already satisfied: kiwisolver>=1.0.1 in /usr/local/lib/python3.7/dist-packages (from matplotlib==3.1.1->pdpbox) (1.3.1)\n",
            "Requirement already satisfied: cycler>=0.10 in /usr/local/lib/python3.7/dist-packages (from matplotlib==3.1.1->pdpbox) (0.10.0)\n",
            "Requirement already satisfied: six in /usr/local/lib/python3.7/dist-packages (from cycler>=0.10->matplotlib==3.1.1->pdpbox) (1.15.0)\n",
            "Requirement already satisfied: pytz>=2017.2 in /usr/local/lib/python3.7/dist-packages (from pandas->pdpbox) (2018.9)\n",
            "Requirement already satisfied: scikit-learn in /usr/local/lib/python3.7/dist-packages (from sklearn->pdpbox) (0.22.2.post1)\n",
            "Building wheels for collected packages: pdpbox\n",
            "  Building wheel for pdpbox (setup.py) ... \u001b[?25l\u001b[?25hdone\n",
            "  Created wheel for pdpbox: filename=PDPbox-0.2.1-py3-none-any.whl size=35758225 sha256=2af1266bc08b64bf5d690d8def4fb2c74e6c224157b0877c6ee9f7dcb7385175\n",
            "  Stored in directory: /root/.cache/pip/wheels/f4/d0/1a/b80035625c53131f52906a6fc4dd690d8efd2bf8af6a4015eb\n",
            "Successfully built pdpbox\n",
            "Installing collected packages: matplotlib, pdpbox\n",
            "  Attempting uninstall: matplotlib\n",
            "    Found existing installation: matplotlib 3.2.2\n",
            "    Uninstalling matplotlib-3.2.2:\n",
            "      Successfully uninstalled matplotlib-3.2.2\n",
            "\u001b[31mERROR: pip's dependency resolver does not currently take into account all the packages that are installed. This behaviour is the source of the following dependency conflicts.\n",
            "albumentations 0.1.12 requires imgaug<0.2.7,>=0.2.5, but you have imgaug 0.2.9 which is incompatible.\u001b[0m\n",
            "Successfully installed matplotlib-3.1.1 pdpbox-0.2.1\n"
          ],
          "name": "stdout"
        },
        {
          "output_type": "display_data",
          "data": {
            "application/vnd.colab-display-data+json": {
              "pip_warning": {
                "packages": [
                  "matplotlib",
                  "mpl_toolkits"
                ]
              }
            }
          },
          "metadata": {
            "tags": []
          }
        },
        {
          "output_type": "stream",
          "text": [
            "Collecting eli5\n",
            "  Downloading eli5-0.11.0-py2.py3-none-any.whl (106 kB)\n",
            "\u001b[?25l\r\u001b[K     |███                             | 10 kB 24.9 MB/s eta 0:00:01\r\u001b[K     |██████▏                         | 20 kB 27.9 MB/s eta 0:00:01\r\u001b[K     |█████████▎                      | 30 kB 12.0 MB/s eta 0:00:01\r\u001b[K     |████████████▍                   | 40 kB 9.6 MB/s eta 0:00:01\r\u001b[K     |███████████████▌                | 51 kB 5.2 MB/s eta 0:00:01\r\u001b[K     |██████████████████▌             | 61 kB 5.6 MB/s eta 0:00:01\r\u001b[K     |█████████████████████▋          | 71 kB 6.0 MB/s eta 0:00:01\r\u001b[K     |████████████████████████▊       | 81 kB 6.7 MB/s eta 0:00:01\r\u001b[K     |███████████████████████████▉    | 92 kB 6.5 MB/s eta 0:00:01\r\u001b[K     |███████████████████████████████ | 102 kB 5.5 MB/s eta 0:00:01\r\u001b[K     |████████████████████████████████| 106 kB 5.5 MB/s \n",
            "\u001b[?25hRequirement already satisfied: jinja2 in /usr/local/lib/python3.7/dist-packages (from eli5) (2.11.3)\n",
            "Requirement already satisfied: numpy>=1.9.0 in /usr/local/lib/python3.7/dist-packages (from eli5) (1.19.5)\n",
            "Requirement already satisfied: tabulate>=0.7.7 in /usr/local/lib/python3.7/dist-packages (from eli5) (0.8.9)\n",
            "Requirement already satisfied: scipy in /usr/local/lib/python3.7/dist-packages (from eli5) (1.4.1)\n",
            "Requirement already satisfied: six in /usr/local/lib/python3.7/dist-packages (from eli5) (1.15.0)\n",
            "Requirement already satisfied: scikit-learn>=0.20 in /usr/local/lib/python3.7/dist-packages (from eli5) (0.22.2.post1)\n",
            "Requirement already satisfied: graphviz in /usr/local/lib/python3.7/dist-packages (from eli5) (0.10.1)\n",
            "Requirement already satisfied: attrs>16.0.0 in /usr/local/lib/python3.7/dist-packages (from eli5) (21.2.0)\n",
            "Requirement already satisfied: joblib>=0.11 in /usr/local/lib/python3.7/dist-packages (from scikit-learn>=0.20->eli5) (1.0.1)\n",
            "Requirement already satisfied: MarkupSafe>=0.23 in /usr/local/lib/python3.7/dist-packages (from jinja2->eli5) (2.0.1)\n",
            "Installing collected packages: eli5\n",
            "Successfully installed eli5-0.11.0\n"
          ],
          "name": "stdout"
        }
      ]
    },
    {
      "cell_type": "code",
      "metadata": {
        "id": "khvSnQqvJ1VJ"
      },
      "source": [
        "import pandas as pd\n",
        "import numpy as np\n",
        "import seaborn as sns\n",
        "import matplotlib.pyplot as plt\n",
        "\n",
        "from sklearn.pipeline import make_pipeline\n",
        "from sklearn.preprocessing import StandardScaler\n",
        "from sklearn.model_selection import RandomizedSearchCV\n",
        "from scipy.stats import randint, uniform\n",
        "from sklearn.metrics import accuracy_score, f1_score, classification_report, plot_confusion_matrix, confusion_matrix, roc_auc_score, roc_curve\n",
        "from sklearn.model_selection import train_test_split\n",
        "from sklearn.ensemble import RandomForestClassifier\n",
        "from pdpbox.pdp import pdp_isolate, pdp_plot\n",
        "from xgboost import XGBClassifier, plot_importance"
      ],
      "execution_count": null,
      "outputs": []
    },
    {
      "cell_type": "code",
      "metadata": {
        "id": "Q75StgzmJ1VK"
      },
      "source": [
        "df = pd.read_csv('data.csv', encoding='CP949')"
      ],
      "execution_count": null,
      "outputs": []
    },
    {
      "cell_type": "markdown",
      "metadata": {
        "id": "LJr3qlfKJ1VK"
      },
      "source": [
        "### EDA"
      ]
    },
    {
      "cell_type": "markdown",
      "metadata": {
        "id": "GBxakoeMJ1VK"
      },
      "source": [
        "먼저 해당 데이터는 초, 중, 고등학교에 대한 데이터를 모두 포함하고 있습니다.\n",
        "\n",
        "저는 이 중에서 본격적으로 진로에 대한 고민이 심화되는 시점이라 생각되는 고등학생의 데이터만을 이용할 것입니다.\n",
        "\n",
        "이를 위해 사용할 특성은 '학교급구분' 특성입니다. 또한 제가 예측할 타겟이 되는 특성은\n",
        "\n",
        "학생들의 진학 시 희망 전공이 담긴 '진학희망대학전공영역' 특성입니다.\n",
        "\n",
        "- 학교급구분\n",
        "  \n",
        "  1 초등학고 / 2 중학교 / 3 일반고 / 4 특성화고\n",
        "  \n",
        "- 진학희망 대학전공 영역\n",
        "  \n",
        "  1 교육계열 / 2 예술 및 인문학 / 3 사회과학, 언론 및 정보학 / 4 경영, 행정 및 법\n",
        "  \n",
        "  5 자연과학, 수학 및 통계학 / 6 정보통신기술 / 7 공학, 제조 및 건설 / 8 농림어업 및 수의학\n",
        "  \n",
        "  9 보건 및 복지 / 10 서비스 / 11 기타"
      ]
    },
    {
      "cell_type": "code",
      "metadata": {
        "colab": {
          "base_uri": "https://localhost:8080/",
          "height": 462
        },
        "id": "MDLQnUzGJ1VK",
        "outputId": "46f1633d-2c78-4fbc-a652-2a02b1bf0d35"
      },
      "source": [
        "df.head()"
      ],
      "execution_count": null,
      "outputs": [
        {
          "output_type": "execute_result",
          "data": {
            "text/html": [
              "<div>\n",
              "<style scoped>\n",
              "    .dataframe tbody tr th:only-of-type {\n",
              "        vertical-align: middle;\n",
              "    }\n",
              "\n",
              "    .dataframe tbody tr th {\n",
              "        vertical-align: top;\n",
              "    }\n",
              "\n",
              "    .dataframe thead th {\n",
              "        text-align: right;\n",
              "    }\n",
              "</style>\n",
              "<table border=\"1\" class=\"dataframe\">\n",
              "  <thead>\n",
              "    <tr style=\"text-align: right;\">\n",
              "      <th></th>\n",
              "      <th>지역구분</th>\n",
              "      <th>학교급구분</th>\n",
              "      <th>학년</th>\n",
              "      <th>방과후학교참여여부(유상+무상)</th>\n",
              "      <th>방과후학교참여시간</th>\n",
              "      <th>방과후학교총금액</th>\n",
              "      <th>초등방과후보육프로그램</th>\n",
              "      <th>특기적성프로그램</th>\n",
              "      <th>교과프로그램</th>\n",
              "      <th>EBS교재비</th>\n",
              "      <th>어학연수비</th>\n",
              "      <th>국내연수</th>\n",
              "      <th>해외연수</th>\n",
              "      <th>사교육참여시간</th>\n",
              "      <th>일반교과사교육목적1</th>\n",
              "      <th>일반교과사교육목적2</th>\n",
              "      <th>일반교과사교육시간</th>\n",
              "      <th>예체능사교육목적1</th>\n",
              "      <th>예체능사교육목적2</th>\n",
              "      <th>예체능사교육시간</th>\n",
              "      <th>취업관련사교육시간</th>\n",
              "      <th>사교육비총금액</th>\n",
              "      <th>일반교과</th>\n",
              "      <th>국어</th>\n",
              "      <th>영어</th>\n",
              "      <th>수학</th>\n",
              "      <th>사회·과학</th>\n",
              "      <th>논술·독서교실·글쓰기·독서토론</th>\n",
              "      <th>컴퓨터(소프트웨어/코딩 포함)</th>\n",
              "      <th>제2외국어·한문 등</th>\n",
              "      <th>일반교과개인과외</th>\n",
              "      <th>일반교과그룹과외</th>\n",
              "      <th>일반교과학원수강</th>\n",
              "      <th>일반교과방문학습지</th>\n",
              "      <th>일반교과유료인터넷및통신강좌등</th>\n",
              "      <th>예체능, 취미·교양</th>\n",
              "      <th>음악</th>\n",
              "      <th>미술</th>\n",
              "      <th>체육</th>\n",
              "      <th>취미·교양</th>\n",
              "      <th>예체능개인과외</th>\n",
              "      <th>예체능그룹과외</th>\n",
              "      <th>예체능학원수강</th>\n",
              "      <th>예체능방문수업및기타</th>\n",
              "      <th>취업관련</th>\n",
              "      <th>진로진학학습상담(컨설팅)참여여부</th>\n",
              "      <th>진로진학학습상담(컨설팅)비용</th>\n",
              "      <th>진로진학학습상담(컨설팅)횟수</th>\n",
              "      <th>학생성별</th>\n",
              "      <th>총자녀수</th>\n",
              "      <th>출생순위</th>\n",
              "      <th>학생성적</th>\n",
              "      <th>부의연령</th>\n",
              "      <th>부의교육정도</th>\n",
              "      <th>모의연령</th>\n",
              "      <th>모의교육정도</th>\n",
              "      <th>부모의경제활동</th>\n",
              "      <th>월평균가구소득</th>\n",
              "      <th>진학희망고등학교유형</th>\n",
              "      <th>진학희망대학전공영역</th>\n",
              "      <th>가중치</th>\n",
              "    </tr>\n",
              "  </thead>\n",
              "  <tbody>\n",
              "    <tr>\n",
              "      <th>0</th>\n",
              "      <td>1</td>\n",
              "      <td>1</td>\n",
              "      <td>1</td>\n",
              "      <td>1</td>\n",
              "      <td>0.666667</td>\n",
              "      <td>11.104718</td>\n",
              "      <td>0.0</td>\n",
              "      <td>11.104718</td>\n",
              "      <td>0.000000</td>\n",
              "      <td>0.0</td>\n",
              "      <td>0.0</td>\n",
              "      <td>0.0</td>\n",
              "      <td>0.0</td>\n",
              "      <td>12.0</td>\n",
              "      <td>2.0</td>\n",
              "      <td>5.0</td>\n",
              "      <td>10.0</td>\n",
              "      <td>2.0</td>\n",
              "      <td>5.0</td>\n",
              "      <td>2.0</td>\n",
              "      <td>0.0</td>\n",
              "      <td>1282.853616</td>\n",
              "      <td>1188.699222</td>\n",
              "      <td>188.308788</td>\n",
              "      <td>529.618465</td>\n",
              "      <td>282.463181</td>\n",
              "      <td>0.000000</td>\n",
              "      <td>188.308788</td>\n",
              "      <td>0.0</td>\n",
              "      <td>0.000000</td>\n",
              "      <td>0.0</td>\n",
              "      <td>0.0</td>\n",
              "      <td>1188.699222</td>\n",
              "      <td>0.000000</td>\n",
              "      <td>0.0</td>\n",
              "      <td>94.154394</td>\n",
              "      <td>0.000000</td>\n",
              "      <td>0.0</td>\n",
              "      <td>94.154394</td>\n",
              "      <td>0.0</td>\n",
              "      <td>0.000000</td>\n",
              "      <td>0.00000</td>\n",
              "      <td>94.154394</td>\n",
              "      <td>0.0</td>\n",
              "      <td>0.0</td>\n",
              "      <td>2</td>\n",
              "      <td>0.0</td>\n",
              "      <td>0</td>\n",
              "      <td>1</td>\n",
              "      <td>2</td>\n",
              "      <td>2</td>\n",
              "      <td>NaN</td>\n",
              "      <td>3.0</td>\n",
              "      <td>62.0</td>\n",
              "      <td>2.0</td>\n",
              "      <td>51.0</td>\n",
              "      <td>3.0</td>\n",
              "      <td>8</td>\n",
              "      <td>1.0</td>\n",
              "      <td>NaN</td>\n",
              "      <td>87.970333</td>\n",
              "    </tr>\n",
              "    <tr>\n",
              "      <th>1</th>\n",
              "      <td>1</td>\n",
              "      <td>1</td>\n",
              "      <td>1</td>\n",
              "      <td>1</td>\n",
              "      <td>0.666667</td>\n",
              "      <td>12.585347</td>\n",
              "      <td>0.0</td>\n",
              "      <td>12.585347</td>\n",
              "      <td>0.000000</td>\n",
              "      <td>0.0</td>\n",
              "      <td>0.0</td>\n",
              "      <td>0.0</td>\n",
              "      <td>0.0</td>\n",
              "      <td>3.0</td>\n",
              "      <td>5.0</td>\n",
              "      <td>3.0</td>\n",
              "      <td>1.0</td>\n",
              "      <td>2.0</td>\n",
              "      <td>NaN</td>\n",
              "      <td>2.0</td>\n",
              "      <td>0.0</td>\n",
              "      <td>510.787587</td>\n",
              "      <td>240.093704</td>\n",
              "      <td>41.192547</td>\n",
              "      <td>41.192547</td>\n",
              "      <td>41.192547</td>\n",
              "      <td>37.661758</td>\n",
              "      <td>44.723337</td>\n",
              "      <td>0.0</td>\n",
              "      <td>34.130968</td>\n",
              "      <td>0.0</td>\n",
              "      <td>0.0</td>\n",
              "      <td>0.000000</td>\n",
              "      <td>240.093704</td>\n",
              "      <td>0.0</td>\n",
              "      <td>270.693882</td>\n",
              "      <td>117.692992</td>\n",
              "      <td>0.0</td>\n",
              "      <td>153.000890</td>\n",
              "      <td>0.0</td>\n",
              "      <td>117.692992</td>\n",
              "      <td>153.00089</td>\n",
              "      <td>0.000000</td>\n",
              "      <td>0.0</td>\n",
              "      <td>0.0</td>\n",
              "      <td>2</td>\n",
              "      <td>0.0</td>\n",
              "      <td>0</td>\n",
              "      <td>1</td>\n",
              "      <td>3</td>\n",
              "      <td>1</td>\n",
              "      <td>NaN</td>\n",
              "      <td>2.0</td>\n",
              "      <td>51.0</td>\n",
              "      <td>2.0</td>\n",
              "      <td>61.0</td>\n",
              "      <td>1.0</td>\n",
              "      <td>4</td>\n",
              "      <td>2.0</td>\n",
              "      <td>NaN</td>\n",
              "      <td>160.363220</td>\n",
              "    </tr>\n",
              "    <tr>\n",
              "      <th>2</th>\n",
              "      <td>1</td>\n",
              "      <td>1</td>\n",
              "      <td>1</td>\n",
              "      <td>1</td>\n",
              "      <td>0.666667</td>\n",
              "      <td>13.325661</td>\n",
              "      <td>0.0</td>\n",
              "      <td>0.000000</td>\n",
              "      <td>13.325661</td>\n",
              "      <td>0.0</td>\n",
              "      <td>0.0</td>\n",
              "      <td>0.0</td>\n",
              "      <td>0.0</td>\n",
              "      <td>13.0</td>\n",
              "      <td>2.0</td>\n",
              "      <td>1.0</td>\n",
              "      <td>3.0</td>\n",
              "      <td>2.0</td>\n",
              "      <td>1.0</td>\n",
              "      <td>10.0</td>\n",
              "      <td>0.0</td>\n",
              "      <td>429.579422</td>\n",
              "      <td>117.692992</td>\n",
              "      <td>41.192547</td>\n",
              "      <td>35.307898</td>\n",
              "      <td>41.192547</td>\n",
              "      <td>0.000000</td>\n",
              "      <td>0.000000</td>\n",
              "      <td>0.0</td>\n",
              "      <td>0.000000</td>\n",
              "      <td>0.0</td>\n",
              "      <td>0.0</td>\n",
              "      <td>35.307898</td>\n",
              "      <td>82.385095</td>\n",
              "      <td>0.0</td>\n",
              "      <td>311.886430</td>\n",
              "      <td>164.770189</td>\n",
              "      <td>0.0</td>\n",
              "      <td>147.116240</td>\n",
              "      <td>0.0</td>\n",
              "      <td>0.000000</td>\n",
              "      <td>0.00000</td>\n",
              "      <td>311.886430</td>\n",
              "      <td>0.0</td>\n",
              "      <td>0.0</td>\n",
              "      <td>2</td>\n",
              "      <td>0.0</td>\n",
              "      <td>0</td>\n",
              "      <td>1</td>\n",
              "      <td>2</td>\n",
              "      <td>2</td>\n",
              "      <td>NaN</td>\n",
              "      <td>3.0</td>\n",
              "      <td>51.0</td>\n",
              "      <td>3.0</td>\n",
              "      <td>51.0</td>\n",
              "      <td>3.0</td>\n",
              "      <td>5</td>\n",
              "      <td>3.0</td>\n",
              "      <td>NaN</td>\n",
              "      <td>154.927179</td>\n",
              "    </tr>\n",
              "    <tr>\n",
              "      <th>3</th>\n",
              "      <td>1</td>\n",
              "      <td>1</td>\n",
              "      <td>1</td>\n",
              "      <td>1</td>\n",
              "      <td>0.666667</td>\n",
              "      <td>13.695818</td>\n",
              "      <td>0.0</td>\n",
              "      <td>13.695818</td>\n",
              "      <td>0.000000</td>\n",
              "      <td>0.0</td>\n",
              "      <td>0.0</td>\n",
              "      <td>0.0</td>\n",
              "      <td>0.0</td>\n",
              "      <td>11.0</td>\n",
              "      <td>2.0</td>\n",
              "      <td>5.0</td>\n",
              "      <td>8.0</td>\n",
              "      <td>2.0</td>\n",
              "      <td>NaN</td>\n",
              "      <td>3.0</td>\n",
              "      <td>0.0</td>\n",
              "      <td>1094.544828</td>\n",
              "      <td>906.236041</td>\n",
              "      <td>0.000000</td>\n",
              "      <td>529.618465</td>\n",
              "      <td>200.078087</td>\n",
              "      <td>0.000000</td>\n",
              "      <td>176.539488</td>\n",
              "      <td>0.0</td>\n",
              "      <td>0.000000</td>\n",
              "      <td>0.0</td>\n",
              "      <td>0.0</td>\n",
              "      <td>906.236041</td>\n",
              "      <td>0.000000</td>\n",
              "      <td>0.0</td>\n",
              "      <td>188.308788</td>\n",
              "      <td>0.000000</td>\n",
              "      <td>0.0</td>\n",
              "      <td>188.308788</td>\n",
              "      <td>0.0</td>\n",
              "      <td>0.000000</td>\n",
              "      <td>0.00000</td>\n",
              "      <td>188.308788</td>\n",
              "      <td>0.0</td>\n",
              "      <td>0.0</td>\n",
              "      <td>2</td>\n",
              "      <td>0.0</td>\n",
              "      <td>0</td>\n",
              "      <td>1</td>\n",
              "      <td>3</td>\n",
              "      <td>1</td>\n",
              "      <td>NaN</td>\n",
              "      <td>3.0</td>\n",
              "      <td>51.0</td>\n",
              "      <td>2.0</td>\n",
              "      <td>51.0</td>\n",
              "      <td>1.0</td>\n",
              "      <td>7</td>\n",
              "      <td>4.0</td>\n",
              "      <td>NaN</td>\n",
              "      <td>85.855662</td>\n",
              "    </tr>\n",
              "    <tr>\n",
              "      <th>4</th>\n",
              "      <td>1</td>\n",
              "      <td>1</td>\n",
              "      <td>1</td>\n",
              "      <td>1</td>\n",
              "      <td>0.666667</td>\n",
              "      <td>14.065976</td>\n",
              "      <td>0.0</td>\n",
              "      <td>14.065976</td>\n",
              "      <td>0.000000</td>\n",
              "      <td>0.0</td>\n",
              "      <td>0.0</td>\n",
              "      <td>0.0</td>\n",
              "      <td>0.0</td>\n",
              "      <td>7.0</td>\n",
              "      <td>NaN</td>\n",
              "      <td>NaN</td>\n",
              "      <td>0.0</td>\n",
              "      <td>2.0</td>\n",
              "      <td>NaN</td>\n",
              "      <td>7.0</td>\n",
              "      <td>0.0</td>\n",
              "      <td>200.078087</td>\n",
              "      <td>0.000000</td>\n",
              "      <td>0.000000</td>\n",
              "      <td>0.000000</td>\n",
              "      <td>0.000000</td>\n",
              "      <td>0.000000</td>\n",
              "      <td>0.000000</td>\n",
              "      <td>0.0</td>\n",
              "      <td>0.000000</td>\n",
              "      <td>0.0</td>\n",
              "      <td>0.0</td>\n",
              "      <td>0.000000</td>\n",
              "      <td>0.000000</td>\n",
              "      <td>0.0</td>\n",
              "      <td>200.078087</td>\n",
              "      <td>0.000000</td>\n",
              "      <td>0.0</td>\n",
              "      <td>200.078087</td>\n",
              "      <td>0.0</td>\n",
              "      <td>0.000000</td>\n",
              "      <td>0.00000</td>\n",
              "      <td>200.078087</td>\n",
              "      <td>0.0</td>\n",
              "      <td>0.0</td>\n",
              "      <td>2</td>\n",
              "      <td>0.0</td>\n",
              "      <td>0</td>\n",
              "      <td>1</td>\n",
              "      <td>2</td>\n",
              "      <td>1</td>\n",
              "      <td>NaN</td>\n",
              "      <td>3.0</td>\n",
              "      <td>51.0</td>\n",
              "      <td>3.0</td>\n",
              "      <td>41.0</td>\n",
              "      <td>1.0</td>\n",
              "      <td>5</td>\n",
              "      <td>1.0</td>\n",
              "      <td>NaN</td>\n",
              "      <td>221.172239</td>\n",
              "    </tr>\n",
              "  </tbody>\n",
              "</table>\n",
              "</div>"
            ],
            "text/plain": [
              "   지역구분  학교급구분  학년  ...  진학희망고등학교유형  진학희망대학전공영역         가중치\n",
              "0     1      1   1  ...         1.0         NaN   87.970333\n",
              "1     1      1   1  ...         2.0         NaN  160.363220\n",
              "2     1      1   1  ...         3.0         NaN  154.927179\n",
              "3     1      1   1  ...         4.0         NaN   85.855662\n",
              "4     1      1   1  ...         1.0         NaN  221.172239\n",
              "\n",
              "[5 rows x 61 columns]"
            ]
          },
          "metadata": {
            "tags": []
          },
          "execution_count": 4
        }
      ]
    },
    {
      "cell_type": "code",
      "metadata": {
        "colab": {
          "base_uri": "https://localhost:8080/"
        },
        "id": "_Z_hHJlJJ1VL",
        "outputId": "3003ba47-0fdd-4440-8638-55dd3d036592"
      },
      "source": [
        "df.shape"
      ],
      "execution_count": null,
      "outputs": [
        {
          "output_type": "execute_result",
          "data": {
            "text/plain": [
              "(75315, 61)"
            ]
          },
          "metadata": {
            "tags": []
          },
          "execution_count": 5
        }
      ]
    },
    {
      "cell_type": "code",
      "metadata": {
        "colab": {
          "base_uri": "https://localhost:8080/"
        },
        "id": "oU-za3J-J1VM",
        "outputId": "ee95f482-cdd7-461e-cd14-eb7c439f8527"
      },
      "source": [
        "# 결측치 확인 / 각 학교급에 따라 추가 문항이 있는 경우가 있음\n",
        "df.isna().sum()"
      ],
      "execution_count": null,
      "outputs": [
        {
          "output_type": "execute_result",
          "data": {
            "text/plain": [
              "지역구분                    0\n",
              "학교급구분                   0\n",
              "학년                      0\n",
              "방과후학교참여여부(유상+무상)        0\n",
              "방과후학교참여시간               0\n",
              "                    ...  \n",
              "부모의경제활동               336\n",
              "월평균가구소득                 0\n",
              "진학희망고등학교유형          34712\n",
              "진학희망대학전공영역          40603\n",
              "가중치                     0\n",
              "Length: 61, dtype: int64"
            ]
          },
          "metadata": {
            "tags": []
          },
          "execution_count": 6
        }
      ]
    },
    {
      "cell_type": "code",
      "metadata": {
        "colab": {
          "base_uri": "https://localhost:8080/"
        },
        "id": "cZyXoMRXJ1VM",
        "outputId": "180e07aa-530a-4e95-e071-b67f0d9473d8"
      },
      "source": [
        "# 데이터 타입 확인\n",
        "df.dtypes"
      ],
      "execution_count": null,
      "outputs": [
        {
          "output_type": "execute_result",
          "data": {
            "text/plain": [
              "지역구분                  int64\n",
              "학교급구분                 int64\n",
              "학년                    int64\n",
              "방과후학교참여여부(유상+무상)      int64\n",
              "방과후학교참여시간           float64\n",
              "                     ...   \n",
              "부모의경제활동             float64\n",
              "월평균가구소득               int64\n",
              "진학희망고등학교유형          float64\n",
              "진학희망대학전공영역          float64\n",
              "가중치                 float64\n",
              "Length: 61, dtype: object"
            ]
          },
          "metadata": {
            "tags": []
          },
          "execution_count": 7
        }
      ]
    },
    {
      "cell_type": "code",
      "metadata": {
        "colab": {
          "base_uri": "https://localhost:8080/",
          "height": 351
        },
        "id": "GVo_eyyuJ1VM",
        "outputId": "19955901-61b8-4b3f-c42d-2fc14ee4b8f2"
      },
      "source": [
        "# 기본 통계치 확인\n",
        "df.describe()"
      ],
      "execution_count": null,
      "outputs": [
        {
          "output_type": "execute_result",
          "data": {
            "text/html": [
              "<div>\n",
              "<style scoped>\n",
              "    .dataframe tbody tr th:only-of-type {\n",
              "        vertical-align: middle;\n",
              "    }\n",
              "\n",
              "    .dataframe tbody tr th {\n",
              "        vertical-align: top;\n",
              "    }\n",
              "\n",
              "    .dataframe thead th {\n",
              "        text-align: right;\n",
              "    }\n",
              "</style>\n",
              "<table border=\"1\" class=\"dataframe\">\n",
              "  <thead>\n",
              "    <tr style=\"text-align: right;\">\n",
              "      <th></th>\n",
              "      <th>지역구분</th>\n",
              "      <th>학교급구분</th>\n",
              "      <th>학년</th>\n",
              "      <th>방과후학교참여여부(유상+무상)</th>\n",
              "      <th>방과후학교참여시간</th>\n",
              "      <th>방과후학교총금액</th>\n",
              "      <th>초등방과후보육프로그램</th>\n",
              "      <th>특기적성프로그램</th>\n",
              "      <th>교과프로그램</th>\n",
              "      <th>EBS교재비</th>\n",
              "      <th>어학연수비</th>\n",
              "      <th>국내연수</th>\n",
              "      <th>해외연수</th>\n",
              "      <th>사교육참여시간</th>\n",
              "      <th>일반교과사교육목적1</th>\n",
              "      <th>일반교과사교육목적2</th>\n",
              "      <th>일반교과사교육시간</th>\n",
              "      <th>예체능사교육목적1</th>\n",
              "      <th>예체능사교육목적2</th>\n",
              "      <th>예체능사교육시간</th>\n",
              "      <th>취업관련사교육시간</th>\n",
              "      <th>사교육비총금액</th>\n",
              "      <th>일반교과</th>\n",
              "      <th>국어</th>\n",
              "      <th>영어</th>\n",
              "      <th>수학</th>\n",
              "      <th>사회·과학</th>\n",
              "      <th>논술·독서교실·글쓰기·독서토론</th>\n",
              "      <th>컴퓨터(소프트웨어/코딩 포함)</th>\n",
              "      <th>제2외국어·한문 등</th>\n",
              "      <th>일반교과개인과외</th>\n",
              "      <th>일반교과그룹과외</th>\n",
              "      <th>일반교과학원수강</th>\n",
              "      <th>일반교과방문학습지</th>\n",
              "      <th>일반교과유료인터넷및통신강좌등</th>\n",
              "      <th>예체능, 취미·교양</th>\n",
              "      <th>음악</th>\n",
              "      <th>미술</th>\n",
              "      <th>체육</th>\n",
              "      <th>취미·교양</th>\n",
              "      <th>예체능개인과외</th>\n",
              "      <th>예체능그룹과외</th>\n",
              "      <th>예체능학원수강</th>\n",
              "      <th>예체능방문수업및기타</th>\n",
              "      <th>취업관련</th>\n",
              "      <th>진로진학학습상담(컨설팅)참여여부</th>\n",
              "      <th>진로진학학습상담(컨설팅)비용</th>\n",
              "      <th>진로진학학습상담(컨설팅)횟수</th>\n",
              "      <th>학생성별</th>\n",
              "      <th>총자녀수</th>\n",
              "      <th>출생순위</th>\n",
              "      <th>학생성적</th>\n",
              "      <th>부의연령</th>\n",
              "      <th>부의교육정도</th>\n",
              "      <th>모의연령</th>\n",
              "      <th>모의교육정도</th>\n",
              "      <th>부모의경제활동</th>\n",
              "      <th>월평균가구소득</th>\n",
              "      <th>진학희망고등학교유형</th>\n",
              "      <th>진학희망대학전공영역</th>\n",
              "      <th>가중치</th>\n",
              "    </tr>\n",
              "  </thead>\n",
              "  <tbody>\n",
              "    <tr>\n",
              "      <th>count</th>\n",
              "      <td>75315.000000</td>\n",
              "      <td>75315.000000</td>\n",
              "      <td>75315.000000</td>\n",
              "      <td>75315.000000</td>\n",
              "      <td>75315.000000</td>\n",
              "      <td>75315.000000</td>\n",
              "      <td>75315.000000</td>\n",
              "      <td>75315.000000</td>\n",
              "      <td>75315.000000</td>\n",
              "      <td>75315.000000</td>\n",
              "      <td>75315.000000</td>\n",
              "      <td>75315.000000</td>\n",
              "      <td>75315.000000</td>\n",
              "      <td>75315.000000</td>\n",
              "      <td>40548.000000</td>\n",
              "      <td>30755.000000</td>\n",
              "      <td>75315.000000</td>\n",
              "      <td>23690.000000</td>\n",
              "      <td>12105.000000</td>\n",
              "      <td>75315.000000</td>\n",
              "      <td>75315.000000</td>\n",
              "      <td>75315.000000</td>\n",
              "      <td>75315.000000</td>\n",
              "      <td>75315.000000</td>\n",
              "      <td>75315.000000</td>\n",
              "      <td>75315.000000</td>\n",
              "      <td>75315.000000</td>\n",
              "      <td>75315.000000</td>\n",
              "      <td>75315.000000</td>\n",
              "      <td>75315.000000</td>\n",
              "      <td>75315.000000</td>\n",
              "      <td>75315.000000</td>\n",
              "      <td>75315.000000</td>\n",
              "      <td>75315.000000</td>\n",
              "      <td>75315.000000</td>\n",
              "      <td>75315.000000</td>\n",
              "      <td>75315.000000</td>\n",
              "      <td>75315.000000</td>\n",
              "      <td>75315.000000</td>\n",
              "      <td>75315.000000</td>\n",
              "      <td>75315.000000</td>\n",
              "      <td>75315.000000</td>\n",
              "      <td>75315.000000</td>\n",
              "      <td>75315.000000</td>\n",
              "      <td>75315.000000</td>\n",
              "      <td>75315.000000</td>\n",
              "      <td>75315.000000</td>\n",
              "      <td>75315.000000</td>\n",
              "      <td>75315.000000</td>\n",
              "      <td>75315.000000</td>\n",
              "      <td>75315.000000</td>\n",
              "      <td>34712.000000</td>\n",
              "      <td>71262.000000</td>\n",
              "      <td>71262.000000</td>\n",
              "      <td>72498.000000</td>\n",
              "      <td>72498.000000</td>\n",
              "      <td>74979.000000</td>\n",
              "      <td>75315.000000</td>\n",
              "      <td>40603.000000</td>\n",
              "      <td>34712.000000</td>\n",
              "      <td>75315.000000</td>\n",
              "    </tr>\n",
              "    <tr>\n",
              "      <th>mean</th>\n",
              "      <td>2.643604</td>\n",
              "      <td>2.268685</td>\n",
              "      <td>2.405762</td>\n",
              "      <td>1.494696</td>\n",
              "      <td>2.270827</td>\n",
              "      <td>14.413818</td>\n",
              "      <td>0.000688</td>\n",
              "      <td>5.267210</td>\n",
              "      <td>9.145920</td>\n",
              "      <td>3.596161</td>\n",
              "      <td>6.525609</td>\n",
              "      <td>0.376223</td>\n",
              "      <td>6.149386</td>\n",
              "      <td>6.064613</td>\n",
              "      <td>2.543479</td>\n",
              "      <td>3.608649</td>\n",
              "      <td>4.343362</td>\n",
              "      <td>2.411482</td>\n",
              "      <td>3.230153</td>\n",
              "      <td>1.653358</td>\n",
              "      <td>0.067893</td>\n",
              "      <td>385.060449</td>\n",
              "      <td>303.149821</td>\n",
              "      <td>31.985047</td>\n",
              "      <td>113.336977</td>\n",
              "      <td>125.015780</td>\n",
              "      <td>18.149637</td>\n",
              "      <td>9.167726</td>\n",
              "      <td>1.748095</td>\n",
              "      <td>3.746560</td>\n",
              "      <td>47.038703</td>\n",
              "      <td>28.945381</td>\n",
              "      <td>210.916318</td>\n",
              "      <td>8.458762</td>\n",
              "      <td>7.790658</td>\n",
              "      <td>77.379346</td>\n",
              "      <td>24.731818</td>\n",
              "      <td>15.764451</td>\n",
              "      <td>28.494974</td>\n",
              "      <td>8.388103</td>\n",
              "      <td>14.420834</td>\n",
              "      <td>5.388750</td>\n",
              "      <td>54.411410</td>\n",
              "      <td>3.158352</td>\n",
              "      <td>2.969356</td>\n",
              "      <td>1.975543</td>\n",
              "      <td>1.561926</td>\n",
              "      <td>0.118715</td>\n",
              "      <td>1.482547</td>\n",
              "      <td>2.171772</td>\n",
              "      <td>1.632384</td>\n",
              "      <td>3.180917</td>\n",
              "      <td>3.191210</td>\n",
              "      <td>43.446255</td>\n",
              "      <td>2.926426</td>\n",
              "      <td>41.794036</td>\n",
              "      <td>2.301391</td>\n",
              "      <td>4.415973</td>\n",
              "      <td>2.120065</td>\n",
              "      <td>6.198289</td>\n",
              "      <td>72.399987</td>\n",
              "    </tr>\n",
              "    <tr>\n",
              "      <th>std</th>\n",
              "      <td>0.964431</td>\n",
              "      <td>0.949469</td>\n",
              "      <td>1.310271</td>\n",
              "      <td>0.499975</td>\n",
              "      <td>3.413521</td>\n",
              "      <td>29.519186</td>\n",
              "      <td>0.085303</td>\n",
              "      <td>19.042673</td>\n",
              "      <td>20.669747</td>\n",
              "      <td>9.918362</td>\n",
              "      <td>121.484832</td>\n",
              "      <td>17.014225</td>\n",
              "      <td>119.655974</td>\n",
              "      <td>6.395364</td>\n",
              "      <td>1.101193</td>\n",
              "      <td>1.391822</td>\n",
              "      <td>5.519633</td>\n",
              "      <td>1.041559</td>\n",
              "      <td>1.552847</td>\n",
              "      <td>3.601339</td>\n",
              "      <td>0.838822</td>\n",
              "      <td>438.170034</td>\n",
              "      <td>404.578078</td>\n",
              "      <td>93.367671</td>\n",
              "      <td>164.594419</td>\n",
              "      <td>185.374698</td>\n",
              "      <td>74.694037</td>\n",
              "      <td>47.250477</td>\n",
              "      <td>21.000583</td>\n",
              "      <td>28.959457</td>\n",
              "      <td>179.879801</td>\n",
              "      <td>121.074979</td>\n",
              "      <td>336.384906</td>\n",
              "      <td>35.483220</td>\n",
              "      <td>43.272637</td>\n",
              "      <td>182.838162</td>\n",
              "      <td>106.505158</td>\n",
              "      <td>95.250907</td>\n",
              "      <td>93.226312</td>\n",
              "      <td>60.659236</td>\n",
              "      <td>104.993611</td>\n",
              "      <td>46.456960</td>\n",
              "      <td>139.004159</td>\n",
              "      <td>21.830081</td>\n",
              "      <td>42.582126</td>\n",
              "      <td>0.154465</td>\n",
              "      <td>16.086460</td>\n",
              "      <td>1.121112</td>\n",
              "      <td>0.499699</td>\n",
              "      <td>0.731961</td>\n",
              "      <td>0.722780</td>\n",
              "      <td>1.249376</td>\n",
              "      <td>0.583141</td>\n",
              "      <td>11.435106</td>\n",
              "      <td>0.541039</td>\n",
              "      <td>10.482116</td>\n",
              "      <td>0.949463</td>\n",
              "      <td>2.126259</td>\n",
              "      <td>1.958523</td>\n",
              "      <td>3.423580</td>\n",
              "      <td>69.370904</td>\n",
              "    </tr>\n",
              "    <tr>\n",
              "      <th>min</th>\n",
              "      <td>1.000000</td>\n",
              "      <td>1.000000</td>\n",
              "      <td>1.000000</td>\n",
              "      <td>1.000000</td>\n",
              "      <td>0.000000</td>\n",
              "      <td>0.000000</td>\n",
              "      <td>0.000000</td>\n",
              "      <td>0.000000</td>\n",
              "      <td>0.000000</td>\n",
              "      <td>0.000000</td>\n",
              "      <td>0.000000</td>\n",
              "      <td>0.000000</td>\n",
              "      <td>0.000000</td>\n",
              "      <td>0.000000</td>\n",
              "      <td>1.000000</td>\n",
              "      <td>1.000000</td>\n",
              "      <td>0.000000</td>\n",
              "      <td>1.000000</td>\n",
              "      <td>1.000000</td>\n",
              "      <td>0.000000</td>\n",
              "      <td>0.000000</td>\n",
              "      <td>0.000000</td>\n",
              "      <td>0.000000</td>\n",
              "      <td>0.000000</td>\n",
              "      <td>0.000000</td>\n",
              "      <td>0.000000</td>\n",
              "      <td>0.000000</td>\n",
              "      <td>0.000000</td>\n",
              "      <td>0.000000</td>\n",
              "      <td>0.000000</td>\n",
              "      <td>0.000000</td>\n",
              "      <td>0.000000</td>\n",
              "      <td>0.000000</td>\n",
              "      <td>0.000000</td>\n",
              "      <td>0.000000</td>\n",
              "      <td>0.000000</td>\n",
              "      <td>0.000000</td>\n",
              "      <td>0.000000</td>\n",
              "      <td>0.000000</td>\n",
              "      <td>0.000000</td>\n",
              "      <td>0.000000</td>\n",
              "      <td>0.000000</td>\n",
              "      <td>0.000000</td>\n",
              "      <td>0.000000</td>\n",
              "      <td>0.000000</td>\n",
              "      <td>1.000000</td>\n",
              "      <td>0.000000</td>\n",
              "      <td>0.000000</td>\n",
              "      <td>1.000000</td>\n",
              "      <td>1.000000</td>\n",
              "      <td>1.000000</td>\n",
              "      <td>1.000000</td>\n",
              "      <td>1.000000</td>\n",
              "      <td>8.000000</td>\n",
              "      <td>1.000000</td>\n",
              "      <td>8.000000</td>\n",
              "      <td>1.000000</td>\n",
              "      <td>1.000000</td>\n",
              "      <td>1.000000</td>\n",
              "      <td>1.000000</td>\n",
              "      <td>3.216216</td>\n",
              "    </tr>\n",
              "    <tr>\n",
              "      <th>25%</th>\n",
              "      <td>2.000000</td>\n",
              "      <td>1.000000</td>\n",
              "      <td>1.000000</td>\n",
              "      <td>1.000000</td>\n",
              "      <td>0.000000</td>\n",
              "      <td>0.000000</td>\n",
              "      <td>0.000000</td>\n",
              "      <td>0.000000</td>\n",
              "      <td>0.000000</td>\n",
              "      <td>0.000000</td>\n",
              "      <td>0.000000</td>\n",
              "      <td>0.000000</td>\n",
              "      <td>0.000000</td>\n",
              "      <td>0.000000</td>\n",
              "      <td>2.000000</td>\n",
              "      <td>2.000000</td>\n",
              "      <td>0.000000</td>\n",
              "      <td>2.000000</td>\n",
              "      <td>2.000000</td>\n",
              "      <td>0.000000</td>\n",
              "      <td>0.000000</td>\n",
              "      <td>0.000000</td>\n",
              "      <td>0.000000</td>\n",
              "      <td>0.000000</td>\n",
              "      <td>0.000000</td>\n",
              "      <td>0.000000</td>\n",
              "      <td>0.000000</td>\n",
              "      <td>0.000000</td>\n",
              "      <td>0.000000</td>\n",
              "      <td>0.000000</td>\n",
              "      <td>0.000000</td>\n",
              "      <td>0.000000</td>\n",
              "      <td>0.000000</td>\n",
              "      <td>0.000000</td>\n",
              "      <td>0.000000</td>\n",
              "      <td>0.000000</td>\n",
              "      <td>0.000000</td>\n",
              "      <td>0.000000</td>\n",
              "      <td>0.000000</td>\n",
              "      <td>0.000000</td>\n",
              "      <td>0.000000</td>\n",
              "      <td>0.000000</td>\n",
              "      <td>0.000000</td>\n",
              "      <td>0.000000</td>\n",
              "      <td>0.000000</td>\n",
              "      <td>2.000000</td>\n",
              "      <td>0.000000</td>\n",
              "      <td>0.000000</td>\n",
              "      <td>1.000000</td>\n",
              "      <td>2.000000</td>\n",
              "      <td>1.000000</td>\n",
              "      <td>2.000000</td>\n",
              "      <td>3.000000</td>\n",
              "      <td>31.000000</td>\n",
              "      <td>3.000000</td>\n",
              "      <td>31.000000</td>\n",
              "      <td>1.000000</td>\n",
              "      <td>3.000000</td>\n",
              "      <td>1.000000</td>\n",
              "      <td>3.000000</td>\n",
              "      <td>32.320755</td>\n",
              "    </tr>\n",
              "    <tr>\n",
              "      <th>50%</th>\n",
              "      <td>3.000000</td>\n",
              "      <td>2.000000</td>\n",
              "      <td>2.000000</td>\n",
              "      <td>1.000000</td>\n",
              "      <td>0.333333</td>\n",
              "      <td>0.000000</td>\n",
              "      <td>0.000000</td>\n",
              "      <td>0.000000</td>\n",
              "      <td>0.000000</td>\n",
              "      <td>0.000000</td>\n",
              "      <td>0.000000</td>\n",
              "      <td>0.000000</td>\n",
              "      <td>0.000000</td>\n",
              "      <td>5.000000</td>\n",
              "      <td>2.000000</td>\n",
              "      <td>3.000000</td>\n",
              "      <td>1.666667</td>\n",
              "      <td>2.000000</td>\n",
              "      <td>3.000000</td>\n",
              "      <td>0.000000</td>\n",
              "      <td>0.000000</td>\n",
              "      <td>275.846648</td>\n",
              "      <td>119.933325</td>\n",
              "      <td>0.000000</td>\n",
              "      <td>0.000000</td>\n",
              "      <td>0.000000</td>\n",
              "      <td>0.000000</td>\n",
              "      <td>0.000000</td>\n",
              "      <td>0.000000</td>\n",
              "      <td>0.000000</td>\n",
              "      <td>0.000000</td>\n",
              "      <td>0.000000</td>\n",
              "      <td>0.000000</td>\n",
              "      <td>0.000000</td>\n",
              "      <td>0.000000</td>\n",
              "      <td>0.000000</td>\n",
              "      <td>0.000000</td>\n",
              "      <td>0.000000</td>\n",
              "      <td>0.000000</td>\n",
              "      <td>0.000000</td>\n",
              "      <td>0.000000</td>\n",
              "      <td>0.000000</td>\n",
              "      <td>0.000000</td>\n",
              "      <td>0.000000</td>\n",
              "      <td>0.000000</td>\n",
              "      <td>2.000000</td>\n",
              "      <td>0.000000</td>\n",
              "      <td>0.000000</td>\n",
              "      <td>1.000000</td>\n",
              "      <td>2.000000</td>\n",
              "      <td>2.000000</td>\n",
              "      <td>3.000000</td>\n",
              "      <td>3.000000</td>\n",
              "      <td>41.000000</td>\n",
              "      <td>3.000000</td>\n",
              "      <td>41.000000</td>\n",
              "      <td>3.000000</td>\n",
              "      <td>4.000000</td>\n",
              "      <td>1.000000</td>\n",
              "      <td>7.000000</td>\n",
              "      <td>50.300648</td>\n",
              "    </tr>\n",
              "    <tr>\n",
              "      <th>75%</th>\n",
              "      <td>3.000000</td>\n",
              "      <td>3.000000</td>\n",
              "      <td>3.000000</td>\n",
              "      <td>2.000000</td>\n",
              "      <td>3.666667</td>\n",
              "      <td>18.804770</td>\n",
              "      <td>0.000000</td>\n",
              "      <td>0.000000</td>\n",
              "      <td>8.143460</td>\n",
              "      <td>0.000000</td>\n",
              "      <td>0.000000</td>\n",
              "      <td>0.000000</td>\n",
              "      <td>0.000000</td>\n",
              "      <td>10.000000</td>\n",
              "      <td>3.000000</td>\n",
              "      <td>5.000000</td>\n",
              "      <td>8.000000</td>\n",
              "      <td>2.000000</td>\n",
              "      <td>5.000000</td>\n",
              "      <td>2.000000</td>\n",
              "      <td>0.000000</td>\n",
              "      <td>599.666626</td>\n",
              "      <td>515.713298</td>\n",
              "      <td>0.000000</td>\n",
              "      <td>235.385985</td>\n",
              "      <td>235.582140</td>\n",
              "      <td>0.000000</td>\n",
              "      <td>0.000000</td>\n",
              "      <td>0.000000</td>\n",
              "      <td>0.000000</td>\n",
              "      <td>0.000000</td>\n",
              "      <td>0.000000</td>\n",
              "      <td>359.799976</td>\n",
              "      <td>0.000000</td>\n",
              "      <td>0.000000</td>\n",
              "      <td>109.846793</td>\n",
              "      <td>0.000000</td>\n",
              "      <td>0.000000</td>\n",
              "      <td>0.000000</td>\n",
              "      <td>0.000000</td>\n",
              "      <td>0.000000</td>\n",
              "      <td>0.000000</td>\n",
              "      <td>0.000000</td>\n",
              "      <td>0.000000</td>\n",
              "      <td>0.000000</td>\n",
              "      <td>2.000000</td>\n",
              "      <td>0.000000</td>\n",
              "      <td>0.000000</td>\n",
              "      <td>2.000000</td>\n",
              "      <td>3.000000</td>\n",
              "      <td>2.000000</td>\n",
              "      <td>4.000000</td>\n",
              "      <td>4.000000</td>\n",
              "      <td>51.000000</td>\n",
              "      <td>3.000000</td>\n",
              "      <td>51.000000</td>\n",
              "      <td>3.000000</td>\n",
              "      <td>6.000000</td>\n",
              "      <td>3.000000</td>\n",
              "      <td>9.000000</td>\n",
              "      <td>96.227514</td>\n",
              "    </tr>\n",
              "    <tr>\n",
              "      <th>max</th>\n",
              "      <td>4.000000</td>\n",
              "      <td>4.000000</td>\n",
              "      <td>6.000000</td>\n",
              "      <td>2.000000</td>\n",
              "      <td>33.333333</td>\n",
              "      <td>667.023371</td>\n",
              "      <td>11.104718</td>\n",
              "      <td>576.334844</td>\n",
              "      <td>372.796315</td>\n",
              "      <td>139.988027</td>\n",
              "      <td>7045.901870</td>\n",
              "      <td>2242.971363</td>\n",
              "      <td>7045.901870</td>\n",
              "      <td>99.000000</td>\n",
              "      <td>7.000000</td>\n",
              "      <td>7.000000</td>\n",
              "      <td>43.000000</td>\n",
              "      <td>6.000000</td>\n",
              "      <td>6.000000</td>\n",
              "      <td>99.000000</td>\n",
              "      <td>35.000000</td>\n",
              "      <td>6242.186778</td>\n",
              "      <td>6182.805195</td>\n",
              "      <td>2691.246424</td>\n",
              "      <td>2398.666504</td>\n",
              "      <td>3837.866407</td>\n",
              "      <td>2353.859846</td>\n",
              "      <td>1647.701892</td>\n",
              "      <td>1530.008900</td>\n",
              "      <td>1176.929923</td>\n",
              "      <td>5610.032632</td>\n",
              "      <td>2353.859846</td>\n",
              "      <td>3923.099743</td>\n",
              "      <td>1045.113772</td>\n",
              "      <td>1079.399927</td>\n",
              "      <td>4797.333009</td>\n",
              "      <td>3726.944756</td>\n",
              "      <td>3530.789769</td>\n",
              "      <td>4797.333009</td>\n",
              "      <td>2198.777629</td>\n",
              "      <td>4797.333009</td>\n",
              "      <td>3597.999757</td>\n",
              "      <td>3530.789769</td>\n",
              "      <td>1176.929923</td>\n",
              "      <td>4119.254730</td>\n",
              "      <td>2.000000</td>\n",
              "      <td>970.102931</td>\n",
              "      <td>95.000000</td>\n",
              "      <td>2.000000</td>\n",
              "      <td>15.000000</td>\n",
              "      <td>13.000000</td>\n",
              "      <td>5.000000</td>\n",
              "      <td>5.000000</td>\n",
              "      <td>75.000000</td>\n",
              "      <td>5.000000</td>\n",
              "      <td>75.000000</td>\n",
              "      <td>4.000000</td>\n",
              "      <td>8.000000</td>\n",
              "      <td>9.000000</td>\n",
              "      <td>11.000000</td>\n",
              "      <td>921.515500</td>\n",
              "    </tr>\n",
              "  </tbody>\n",
              "</table>\n",
              "</div>"
            ],
            "text/plain": [
              "               지역구분         학교급구분  ...    진학희망대학전공영역           가중치\n",
              "count  75315.000000  75315.000000  ...  34712.000000  75315.000000\n",
              "mean       2.643604      2.268685  ...      6.198289     72.399987\n",
              "std        0.964431      0.949469  ...      3.423580     69.370904\n",
              "min        1.000000      1.000000  ...      1.000000      3.216216\n",
              "25%        2.000000      1.000000  ...      3.000000     32.320755\n",
              "50%        3.000000      2.000000  ...      7.000000     50.300648\n",
              "75%        3.000000      3.000000  ...      9.000000     96.227514\n",
              "max        4.000000      4.000000  ...     11.000000    921.515500\n",
              "\n",
              "[8 rows x 61 columns]"
            ]
          },
          "metadata": {
            "tags": []
          },
          "execution_count": 8
        }
      ]
    },
    {
      "cell_type": "code",
      "metadata": {
        "colab": {
          "base_uri": "https://localhost:8080/"
        },
        "id": "eLqWzHOUJ1VN",
        "outputId": "9a56c83c-5bd6-48f6-f591-69ba805086bf"
      },
      "source": [
        "# 학교급 구분 특성 데이터 분포 확인\n",
        "df['학교급구분'].value_counts()"
      ],
      "execution_count": null,
      "outputs": [
        {
          "output_type": "execute_result",
          "data": {
            "text/plain": [
              "3    28676\n",
              "1    20512\n",
              "2    20091\n",
              "4     6036\n",
              "Name: 학교급구분, dtype: int64"
            ]
          },
          "metadata": {
            "tags": []
          },
          "execution_count": 9
        }
      ]
    },
    {
      "cell_type": "markdown",
      "metadata": {
        "id": "nhSoEQt7J1VO"
      },
      "source": [
        "---\n",
        "*고등학생에 해당하는 3, 4를 제외한 관측치를 제거하겠습니다.*"
      ]
    },
    {
      "cell_type": "code",
      "metadata": {
        "id": "4KYgQYEUJ1VO"
      },
      "source": [
        "df = df[(df['학교급구분']==3) | (df['학교급구분']==4)]"
      ],
      "execution_count": null,
      "outputs": []
    },
    {
      "cell_type": "code",
      "metadata": {
        "colab": {
          "base_uri": "https://localhost:8080/"
        },
        "id": "OWDqul36J1VO",
        "outputId": "ce6c281b-073c-4c01-8736-47bfb84521c4"
      },
      "source": [
        "df.shape"
      ],
      "execution_count": null,
      "outputs": [
        {
          "output_type": "execute_result",
          "data": {
            "text/plain": [
              "(34712, 61)"
            ]
          },
          "metadata": {
            "tags": []
          },
          "execution_count": 11
        }
      ]
    },
    {
      "cell_type": "code",
      "metadata": {
        "colab": {
          "base_uri": "https://localhost:8080/"
        },
        "id": "R5g4RuKCJ1VP",
        "outputId": "ba57d679-4ef6-4327-d311-5d1824becad8"
      },
      "source": [
        "# 결측치 다시 확인 / 진학희망고등학교유형 특성은 초등, 중학생에게만 해당하는 특성\n",
        "df.isna().sum()"
      ],
      "execution_count": null,
      "outputs": [
        {
          "output_type": "execute_result",
          "data": {
            "text/plain": [
              "지역구분                    0\n",
              "학교급구분                   0\n",
              "학년                      0\n",
              "방과후학교참여여부(유상+무상)        0\n",
              "방과후학교참여시간               0\n",
              "                    ...  \n",
              "부모의경제활동               178\n",
              "월평균가구소득                 0\n",
              "진학희망고등학교유형          34712\n",
              "진학희망대학전공영역              0\n",
              "가중치                     0\n",
              "Length: 61, dtype: int64"
            ]
          },
          "metadata": {
            "tags": []
          },
          "execution_count": 12
        }
      ]
    },
    {
      "cell_type": "markdown",
      "metadata": {
        "id": "yMwPrdXBJ1VP"
      },
      "source": [
        "---\n",
        "*고등학생에겐 필요없는 특성들을 제거하겠습니다.*"
      ]
    },
    {
      "cell_type": "code",
      "metadata": {
        "id": "HMDIvgkXJ1VP"
      },
      "source": [
        "df = df.drop(['초등방과후보육프로그램','진학희망고등학교유형'], axis=1)"
      ],
      "execution_count": null,
      "outputs": []
    },
    {
      "cell_type": "code",
      "metadata": {
        "colab": {
          "base_uri": "https://localhost:8080/"
        },
        "id": "bgBQ7cXjJ1VQ",
        "outputId": "ecc16931-dc83-47ca-e7f2-45ef56c6ddd2"
      },
      "source": [
        "# 특성이 제대로 삭제되었는지 확인 / True\n",
        "df.shape"
      ],
      "execution_count": null,
      "outputs": [
        {
          "output_type": "execute_result",
          "data": {
            "text/plain": [
              "(34712, 59)"
            ]
          },
          "metadata": {
            "tags": []
          },
          "execution_count": 14
        }
      ]
    },
    {
      "cell_type": "code",
      "metadata": {
        "colab": {
          "base_uri": "https://localhost:8080/"
        },
        "id": "gF-0YMRGJ1VQ",
        "outputId": "2767e1f1-f290-4385-b253-5fa80684fe92"
      },
      "source": [
        "df.isna().sum()"
      ],
      "execution_count": null,
      "outputs": [
        {
          "output_type": "execute_result",
          "data": {
            "text/plain": [
              "지역구분                     0\n",
              "학교급구분                    0\n",
              "학년                       0\n",
              "방과후학교참여여부(유상+무상)         0\n",
              "방과후학교참여시간                0\n",
              "방과후학교총금액                 0\n",
              "특기적성프로그램                 0\n",
              "교과프로그램                   0\n",
              "EBS교재비                   0\n",
              "어학연수비                    0\n",
              "국내연수                     0\n",
              "해외연수                     0\n",
              "사교육참여시간                  0\n",
              "일반교과사교육목적1           18007\n",
              "일반교과사교육목적2           21997\n",
              "일반교과사교육시간                0\n",
              "예체능사교육목적1            29636\n",
              "예체능사교육목적2            32279\n",
              "예체능사교육시간                 0\n",
              "취업관련사교육시간                0\n",
              "사교육비총금액                  0\n",
              "일반교과                     0\n",
              "국어                       0\n",
              "영어                       0\n",
              "수학                       0\n",
              "사회·과학                    0\n",
              "논술·독서교실·글쓰기·독서토론         0\n",
              "컴퓨터(소프트웨어/코딩 포함)         0\n",
              "제2외국어·한문 등               0\n",
              "일반교과개인과외                 0\n",
              "일반교과그룹과외                 0\n",
              "일반교과학원수강                 0\n",
              "일반교과방문학습지                0\n",
              "일반교과유료인터넷및통신강좌등          0\n",
              "예체능, 취미·교양               0\n",
              "음악                       0\n",
              "미술                       0\n",
              "체육                       0\n",
              "취미·교양                    0\n",
              "예체능개인과외                  0\n",
              "예체능그룹과외                  0\n",
              "예체능학원수강                  0\n",
              "예체능방문수업및기타               0\n",
              "취업관련                     0\n",
              "진로진학학습상담(컨설팅)참여여부        0\n",
              "진로진학학습상담(컨설팅)비용          0\n",
              "진로진학학습상담(컨설팅)횟수          0\n",
              "학생성별                     0\n",
              "총자녀수                     0\n",
              "출생순위                     0\n",
              "학생성적                     0\n",
              "부의연령                  2110\n",
              "부의교육정도                2110\n",
              "모의연령                  1427\n",
              "모의교육정도                1427\n",
              "부모의경제활동                178\n",
              "월평균가구소득                  0\n",
              "진학희망대학전공영역               0\n",
              "가중치                      0\n",
              "dtype: int64"
            ]
          },
          "metadata": {
            "tags": []
          },
          "execution_count": 15
        }
      ]
    },
    {
      "cell_type": "markdown",
      "metadata": {
        "id": "k3HcyTQsJ1VQ"
      },
      "source": [
        "---\n",
        "제가 찾고자하는 결과는 자신의 방향성을 잘모르는 학생들에게 방향을 제시해 주는것이므로\n",
        "\n",
        "교육 목적을 확실히 아는것과는 거리가 있습니다. 따라서 교육목적과 관련된 특성은 제거하겠습니다."
      ]
    },
    {
      "cell_type": "code",
      "metadata": {
        "colab": {
          "base_uri": "https://localhost:8080/"
        },
        "id": "15-iUzhbJ1VR",
        "outputId": "d08b3c1f-806d-4594-8632-c982196e288d"
      },
      "source": [
        "df = df.drop(['일반교과사교육목적1', '일반교과사교육목적2', '예체능사교육목적1', '예체능사교육목적2'], axis = 1)\n",
        "df.shape"
      ],
      "execution_count": null,
      "outputs": [
        {
          "output_type": "execute_result",
          "data": {
            "text/plain": [
              "(34712, 55)"
            ]
          },
          "metadata": {
            "tags": []
          },
          "execution_count": 16
        }
      ]
    },
    {
      "cell_type": "code",
      "metadata": {
        "colab": {
          "base_uri": "https://localhost:8080/"
        },
        "id": "ZsVkumJ3J1VR",
        "outputId": "4c9d1b7e-1013-4db5-a916-20a1c2a69ad5"
      },
      "source": [
        "df[(df['부의연령'].isna() == True) & (df['부의교육정도'].isna() == True)].shape"
      ],
      "execution_count": null,
      "outputs": [
        {
          "output_type": "execute_result",
          "data": {
            "text/plain": [
              "(2110, 55)"
            ]
          },
          "metadata": {
            "tags": []
          },
          "execution_count": 17
        }
      ]
    },
    {
      "cell_type": "code",
      "metadata": {
        "colab": {
          "base_uri": "https://localhost:8080/"
        },
        "id": "uCKUDHWNJ1VR",
        "outputId": "94ff2c97-34c1-4478-96c4-6d7805cc2e58"
      },
      "source": [
        "df[(df['모의연령'].isna() == True) & (df['모의교육정도'].isna() == True)].shape"
      ],
      "execution_count": null,
      "outputs": [
        {
          "output_type": "execute_result",
          "data": {
            "text/plain": [
              "(1427, 55)"
            ]
          },
          "metadata": {
            "tags": []
          },
          "execution_count": 18
        }
      ]
    },
    {
      "cell_type": "markdown",
      "metadata": {
        "id": "cuZu8vFAJ1VS"
      },
      "source": [
        "---\n",
        "부의연령, 부의교육정도 그리고 모의연령, 모의교육정도의 결측치는 각각 부, 모가 안계신 경우를 나타냅니다.\n",
        "\n",
        "이는 교육, 진로적 측면에서 크게 영향을 미칠 수 있는 부분으로 생각되므로 버리지않고 0으로 대체하여 사용하겠습니다.\n",
        "\n",
        "또한 부모의경제활동 특성의 결측치는 부모가 모두 안계신 경우로 이 역시 0으로 대체하여 사용하겠습니다."
      ]
    },
    {
      "cell_type": "code",
      "metadata": {
        "id": "Z25__6a-J1VS"
      },
      "source": [
        "# 남은 결측치는 모두 0으로 대체 가능\n",
        "df = df.fillna(0)"
      ],
      "execution_count": null,
      "outputs": []
    },
    {
      "cell_type": "code",
      "metadata": {
        "colab": {
          "base_uri": "https://localhost:8080/"
        },
        "id": "fTQWrCr_J1VS",
        "outputId": "f1e42ece-5fb1-4e25-e4d8-3d7af6369d2e"
      },
      "source": [
        "# 결측치 처리 확인 / 0개 확인\n",
        "df.isna().sum().sum()"
      ],
      "execution_count": null,
      "outputs": [
        {
          "output_type": "execute_result",
          "data": {
            "text/plain": [
              "0"
            ]
          },
          "metadata": {
            "tags": []
          },
          "execution_count": 20
        }
      ]
    },
    {
      "cell_type": "markdown",
      "metadata": {
        "id": "k0vnt0TUJ1VT"
      },
      "source": [
        "다음으로 타겟데이터를 축소시키겠습니다.\n",
        "\n",
        "제가 희망하는 결과는 세세한 전공의 희망보다는 학생이 자유롭게 선택하되 큰 틀의 방향만 정해주는 것입니다.\n",
        "\n",
        "따라서 이공계열로 진학을 희망하는 학생을 1, 그렇지 않은 학생은 0으로 분류하도록 하겠습니다.\n",
        "\n",
        "0. 기타\n",
        "* 1 교육계열 / 2 예술 및 인문학 / 3 사회과학, 언론 및 정보학 / 4 경영, 행정 및 법 / 10 서비스 / 11 기타(아직 결정 안함, 진학 안함 등)\n",
        "1. 이공계열\n",
        "* 5 자연 과학, 수학 및 통계학 / 6 정보통신기술 / 7 공학, 제조 및 건설 / 8 농림어업 및 수의학 / 9 보건 및 복지"
      ]
    },
    {
      "cell_type": "code",
      "metadata": {
        "colab": {
          "base_uri": "https://localhost:8080/"
        },
        "id": "jB1GYmBsJ1VT",
        "outputId": "bc976974-74d7-458d-9b13-25f7dd117d77"
      },
      "source": [
        "df['진학희망대학전공영역'].value_counts()\n",
        "# 0 -> 21599 / 1 -> 13113"
      ],
      "execution_count": null,
      "outputs": [
        {
          "output_type": "execute_result",
          "data": {
            "text/plain": [
              "2.0     5331\n",
              "11.0    4692\n",
              "7.0     4555\n",
              "9.0     4256\n",
              "10.0    3661\n",
              "4.0     3201\n",
              "1.0     2821\n",
              "5.0     1960\n",
              "3.0     1893\n",
              "6.0     1879\n",
              "8.0      463\n",
              "Name: 진학희망대학전공영역, dtype: int64"
            ]
          },
          "metadata": {
            "tags": []
          },
          "execution_count": 21
        }
      ]
    },
    {
      "cell_type": "code",
      "metadata": {
        "id": "OCQDjVn0J1VT"
      },
      "source": [
        "df['진학희망대학전공영역'] = df['진학희망대학전공영역'].replace([1,2,3,4,10,11],0).replace([5,6,7,8,9],1)"
      ],
      "execution_count": null,
      "outputs": []
    },
    {
      "cell_type": "code",
      "metadata": {
        "colab": {
          "base_uri": "https://localhost:8080/"
        },
        "id": "Hg-MaAifJ1VT",
        "outputId": "a8138726-665b-4022-fd26-ae97170c37dd"
      },
      "source": [
        "# 정상분류 확인 / True\n",
        "df['진학희망대학전공영역'].value_counts()"
      ],
      "execution_count": null,
      "outputs": [
        {
          "output_type": "execute_result",
          "data": {
            "text/plain": [
              "0.0    21599\n",
              "1.0    13113\n",
              "Name: 진학희망대학전공영역, dtype: int64"
            ]
          },
          "metadata": {
            "tags": []
          },
          "execution_count": 23
        }
      ]
    },
    {
      "cell_type": "markdown",
      "metadata": {
        "id": "ivaw15bDJ1VU"
      },
      "source": [
        "---\n",
        "본격적으로 필요없는 특성을 지우고, 데이터를 다루기 편하도록 특성명을 변경하겠습니다."
      ]
    },
    {
      "cell_type": "code",
      "metadata": {
        "id": "hoOj0exiJ1VU"
      },
      "source": [
        "# 지역 특성은 분류 목적에 부합하지 않기 때문에 drop\n",
        "df = df.drop('지역구분',axis = 1)\n",
        "\n",
        "# 학교급구분은 이미 활용했으므로 drop\n",
        "df = df.drop('학교급구분',axis = 1)\n",
        "\n",
        "# 학년 특성은 분류 목적에 부합하지 않기 때문에 drop\n",
        "df = df.drop('학년',axis = 1)\n",
        "\n",
        "# 방과후학교참여여부(유상+무상) 특성은 참여시간으로 확인 가능 drop\n",
        "df = df.drop('방과후학교참여여부(유상+무상)',axis = 1)\n",
        "\n",
        "# 각각의 특성이 직접 미치는 영향을 살펴보기 위해 합계에 관한 특성 drop\n",
        "df = df.drop(['어학연수비', '사교육참여시간', '사교육비총금액', '일반교과', '예체능, 취미·교양'],axis = 1)\n",
        "\n",
        "# 가중치 특성 drop\n",
        "df = df.drop('가중치',axis = 1)\n",
        "\n",
        "# 특성명 변경\n",
        "df = df.rename({'방과후학교참여시간':'after_school_time',\n",
        "                '방과후학교총금액':'after_school_pay',\n",
        "                '특기적성프로그램':'specialty_program',\n",
        "                '교과프로그램':'subject_program',\n",
        "                'EBS교재비':'EBS_textbook_pay',\n",
        "                #'어학연수비':'language_train_pay',\n",
        "                '국내연수':'domestic_train',\n",
        "                '해외연수':'overseas_train',\n",
        "                #'사교육참여시간':'private_edu_time',\n",
        "                '일반교과사교육시간':'general_private_edu_time',\n",
        "                '예체능사교육시간':'AMP_private_edu_time', # AMP(Art, Music, Physical)\n",
        "                '취업관련사교육시간':'job_private_edu_time',\n",
        "                #'사교육비총금액':'private_edu_pay',\n",
        "                #'일반교과':'general_edu_pay',\n",
        "                '국어':'korean_edu_pay',\n",
        "                '영어':'english_edu_pay',\n",
        "                '수학':'math_edu_pay',\n",
        "                '사회·과학':'social_science_edu_pay',\n",
        "                '논술·독서교실·글쓰기·독서토론':'essay_edu_pay',\n",
        "                '컴퓨터(소프트웨어/코딩 포함)':'computer_edu_pay',\n",
        "                '제2외국어·한문 등':'second_language_edu_pay',\n",
        "                '일반교과개인과외':'general_personal_lesson_pay',\n",
        "                '일반교과그룹과외':'general_group_lesson_pay',\n",
        "                '일반교과학원수강':'general_academy_lesson_pay',\n",
        "                '일반교과방문학습지':'general_study_paper_pay',\n",
        "                '일반교과유료인터넷및통신강좌등':'general_e_learning_pay',\n",
        "                #'예체능, 취미·교양':'AMP_hobby_edu_pay',\n",
        "                '음악':'music_edu_pay',\n",
        "                '미술':'art_edu_pay',\n",
        "                '체육':'physical_edu_pay',\n",
        "                '취미·교양':'hobby_edu_pay',\n",
        "                '예체능개인과외':'AMP_personal_lesson_pay',\n",
        "                '예체능그룹과외':'AMP_group_lesson_pay',\n",
        "                '예체능학원수강':'AMP_academy_lesson_pay',\n",
        "                '예체능방문수업및기타':'AMP_etc_edu_pay',\n",
        "                '취업관련':'job_edu_pay',\n",
        "                '진로진학학습상담(컨설팅)참여여부':'career_coach_participate',\n",
        "                '진로진학학습상담(컨설팅)비용':'career_coach_pay',\n",
        "                '진로진학학습상담(컨설팅)횟수':'career_coach_time',\n",
        "                '학생성별':'gender',\n",
        "                '총자녀수':'total_children',\n",
        "                '출생순위':'birth_rank',\n",
        "                '학생성적':'grade',\n",
        "                '부의연령':'father_age',\n",
        "                '부의교육정도':'father_edu',\n",
        "                '모의연령':'mother_age',\n",
        "                '모의교육정도':'mother_edu',\n",
        "                '부모의경제활동':'parents_economic',\n",
        "                '월평균가구소득':'household_income',\n",
        "                '진학희망대학전공영역':'hope_major'}, axis = 'columns')"
      ],
      "execution_count": null,
      "outputs": []
    },
    {
      "cell_type": "code",
      "metadata": {
        "colab": {
          "base_uri": "https://localhost:8080/"
        },
        "id": "Bwxw9b_YJ1VV",
        "outputId": "031bfd26-5179-49e4-c390-7f27c602b99a"
      },
      "source": [
        "# 특성 drop이 정상적으로 됐는지 확인 / True\n",
        "df.shape"
      ],
      "execution_count": null,
      "outputs": [
        {
          "output_type": "execute_result",
          "data": {
            "text/plain": [
              "(34712, 45)"
            ]
          },
          "metadata": {
            "tags": []
          },
          "execution_count": 25
        }
      ]
    },
    {
      "cell_type": "code",
      "metadata": {
        "colab": {
          "base_uri": "https://localhost:8080/"
        },
        "id": "uivC3VbMJ1VV",
        "outputId": "3fbfe3e2-b04b-4cbd-8de9-3ae732af0dd2"
      },
      "source": [
        "# 특성명 변경이 정상적으로 됐는지 확인 / True\n",
        "df.columns"
      ],
      "execution_count": null,
      "outputs": [
        {
          "output_type": "execute_result",
          "data": {
            "text/plain": [
              "Index(['after_school_time', 'after_school_pay', 'specialty_program',\n",
              "       'subject_program', 'EBS_textbook_pay', 'domestic_train',\n",
              "       'overseas_train', 'general_private_edu_time', 'AMP_private_edu_time',\n",
              "       'job_private_edu_time', 'korean_edu_pay', 'english_edu_pay',\n",
              "       'math_edu_pay', 'social_science_edu_pay', 'essay_edu_pay',\n",
              "       'computer_edu_pay', 'second_language_edu_pay',\n",
              "       'general_personal_lesson_pay', 'general_group_lesson_pay',\n",
              "       'general_academy_lesson_pay', 'general_study_paper_pay',\n",
              "       'general_e_learning_pay', 'music_edu_pay', 'art_edu_pay',\n",
              "       'physical_edu_pay', 'hobby_edu_pay', 'AMP_personal_lesson_pay',\n",
              "       'AMP_group_lesson_pay', 'AMP_academy_lesson_pay', 'AMP_etc_edu_pay',\n",
              "       'job_edu_pay', 'career_coach_participate', 'career_coach_pay',\n",
              "       'career_coach_time', 'gender', 'total_children', 'birth_rank', 'grade',\n",
              "       'father_age', 'father_edu', 'mother_age', 'mother_edu',\n",
              "       'parents_economic', 'household_income', 'hope_major'],\n",
              "      dtype='object')"
            ]
          },
          "metadata": {
            "tags": []
          },
          "execution_count": 26
        }
      ]
    },
    {
      "cell_type": "markdown",
      "metadata": {
        "id": "WKqewtkBJ1VV"
      },
      "source": [
        "### Data Wrangling"
      ]
    },
    {
      "cell_type": "markdown",
      "metadata": {
        "id": "R9DYloRxJ1VW"
      },
      "source": [
        "---\n",
        "이제 각각의 특성과 타겟이 어떠한 분포를 보이는지 보기위해 데이터 랭글링과 시각화를 진행해 보겠습니다.\n",
        "\n",
        "먼저 국어, 영어, 수학 혹은 컴퓨터 등의 교육을 받는것이 사회문화 영역이나 이공계열 선택에 영향을 끼치는지 확인해 보겠습니다."
      ]
    },
    {
      "cell_type": "code",
      "metadata": {
        "id": "T5PNY4e4J1VW"
      },
      "source": [
        "# hope major 특성을 target으로 저장\n",
        "target = 'hope_major'"
      ],
      "execution_count": null,
      "outputs": []
    },
    {
      "cell_type": "code",
      "metadata": {
        "colab": {
          "base_uri": "https://localhost:8080/"
        },
        "id": "YVHgPOjJJ1VW",
        "outputId": "78291b2d-be58-4fd0-e487-db255246ea7f"
      },
      "source": [
        "# 희망진로 별 국어과목 교육비\n",
        "df.groupby(target)['korean_edu_pay'].sum()"
      ],
      "execution_count": null,
      "outputs": [
        {
          "output_type": "execute_result",
          "data": {
            "text/plain": [
              "hope_major\n",
              "0.0    933384.312267\n",
              "1.0    678272.299122\n",
              "Name: korean_edu_pay, dtype: float64"
            ]
          },
          "metadata": {
            "tags": []
          },
          "execution_count": 28
        }
      ]
    },
    {
      "cell_type": "code",
      "metadata": {
        "colab": {
          "base_uri": "https://localhost:8080/"
        },
        "id": "v3V9_l6DJ1VW",
        "outputId": "845b9be7-f1c0-4c71-af5d-591b43049631"
      },
      "source": [
        "# 희망진로 별 영어과목 교육비\n",
        "df.groupby(target)['english_edu_pay'].sum()"
      ],
      "execution_count": null,
      "outputs": [
        {
          "output_type": "execute_result",
          "data": {
            "text/plain": [
              "hope_major\n",
              "0.0    2.218077e+06\n",
              "1.0    1.675779e+06\n",
              "Name: english_edu_pay, dtype: float64"
            ]
          },
          "metadata": {
            "tags": []
          },
          "execution_count": 29
        }
      ]
    },
    {
      "cell_type": "code",
      "metadata": {
        "colab": {
          "base_uri": "https://localhost:8080/"
        },
        "id": "NQxT0ZTkJ1VW",
        "outputId": "3ddd1719-b08a-4e21-8072-65885e747da0"
      },
      "source": [
        "# 희망진로 별 수학과목 교육비\n",
        "df.groupby(target)['math_edu_pay'].sum()"
      ],
      "execution_count": null,
      "outputs": [
        {
          "output_type": "execute_result",
          "data": {
            "text/plain": [
              "hope_major\n",
              "0.0    2.622236e+06\n",
              "1.0    2.602361e+06\n",
              "Name: math_edu_pay, dtype: float64"
            ]
          },
          "metadata": {
            "tags": []
          },
          "execution_count": 30
        }
      ]
    },
    {
      "cell_type": "code",
      "metadata": {
        "colab": {
          "base_uri": "https://localhost:8080/"
        },
        "id": "rvywXToDJ1VW",
        "outputId": "c279b1e6-5126-42be-8758-0add5d7d8f59"
      },
      "source": [
        "# 희망진로 별 컴퓨터과목 교육비\n",
        "df.groupby(target)['computer_edu_pay'].sum()"
      ],
      "execution_count": null,
      "outputs": [
        {
          "output_type": "execute_result",
          "data": {
            "text/plain": [
              "hope_major\n",
              "0.0    18456.832086\n",
              "1.0    30288.472262\n",
              "Name: computer_edu_pay, dtype: float64"
            ]
          },
          "metadata": {
            "tags": []
          },
          "execution_count": 31
        }
      ]
    },
    {
      "cell_type": "code",
      "metadata": {
        "colab": {
          "base_uri": "https://localhost:8080/"
        },
        "id": "JJmwv5XVJ1VX",
        "outputId": "813a2e4d-9026-4965-bc96-15c0d328a546"
      },
      "source": [
        "pay_by_hope = pd.DataFrame(df.groupby(target)[['korean_edu_pay','english_edu_pay',\n",
        "                                               'math_edu_pay','computer_edu_pay']].sum())\n",
        "pay_by_hope"
      ],
      "execution_count": null,
      "outputs": [
        {
          "output_type": "execute_result",
          "data": {
            "text/html": [
              "<div>\n",
              "<style scoped>\n",
              "    .dataframe tbody tr th:only-of-type {\n",
              "        vertical-align: middle;\n",
              "    }\n",
              "\n",
              "    .dataframe tbody tr th {\n",
              "        vertical-align: top;\n",
              "    }\n",
              "\n",
              "    .dataframe thead th {\n",
              "        text-align: right;\n",
              "    }\n",
              "</style>\n",
              "<table border=\"1\" class=\"dataframe\">\n",
              "  <thead>\n",
              "    <tr style=\"text-align: right;\">\n",
              "      <th></th>\n",
              "      <th>korean_edu_pay</th>\n",
              "      <th>english_edu_pay</th>\n",
              "      <th>math_edu_pay</th>\n",
              "      <th>computer_edu_pay</th>\n",
              "    </tr>\n",
              "    <tr>\n",
              "      <th>hope_major</th>\n",
              "      <th></th>\n",
              "      <th></th>\n",
              "      <th></th>\n",
              "      <th></th>\n",
              "    </tr>\n",
              "  </thead>\n",
              "  <tbody>\n",
              "    <tr>\n",
              "      <th>0.0</th>\n",
              "      <td>933384.312267</td>\n",
              "      <td>2.218077e+06</td>\n",
              "      <td>2.622236e+06</td>\n",
              "      <td>18456.832086</td>\n",
              "    </tr>\n",
              "    <tr>\n",
              "      <th>1.0</th>\n",
              "      <td>678272.299122</td>\n",
              "      <td>1.675779e+06</td>\n",
              "      <td>2.602361e+06</td>\n",
              "      <td>30288.472262</td>\n",
              "    </tr>\n",
              "  </tbody>\n",
              "</table>\n",
              "</div>"
            ],
            "text/plain": [
              "            korean_edu_pay  english_edu_pay  math_edu_pay  computer_edu_pay\n",
              "hope_major                                                                 \n",
              "0.0          933384.312267     2.218077e+06  2.622236e+06      18456.832086\n",
              "1.0          678272.299122     1.675779e+06  2.602361e+06      30288.472262"
            ]
          },
          "metadata": {
            "tags": []
          },
          "execution_count": 32
        }
      ]
    },
    {
      "cell_type": "code",
      "metadata": {
        "id": "63v3-_JzJ1VX"
      },
      "source": [
        "pay_by_hope['count'] = [21599, 13113] # 1인당 교육비 계산을 위해 hope_major별 학생 수 추가"
      ],
      "execution_count": null,
      "outputs": []
    },
    {
      "cell_type": "code",
      "metadata": {
        "colab": {
          "base_uri": "https://localhost:8080/"
        },
        "id": "PaMdAESbJ1VX",
        "outputId": "8f32c95f-f2a9-4c7b-ad01-10b48ac388f7"
      },
      "source": [
        "pay_by_hope"
      ],
      "execution_count": null,
      "outputs": [
        {
          "output_type": "execute_result",
          "data": {
            "text/html": [
              "<div>\n",
              "<style scoped>\n",
              "    .dataframe tbody tr th:only-of-type {\n",
              "        vertical-align: middle;\n",
              "    }\n",
              "\n",
              "    .dataframe tbody tr th {\n",
              "        vertical-align: top;\n",
              "    }\n",
              "\n",
              "    .dataframe thead th {\n",
              "        text-align: right;\n",
              "    }\n",
              "</style>\n",
              "<table border=\"1\" class=\"dataframe\">\n",
              "  <thead>\n",
              "    <tr style=\"text-align: right;\">\n",
              "      <th></th>\n",
              "      <th>korean_edu_pay</th>\n",
              "      <th>english_edu_pay</th>\n",
              "      <th>math_edu_pay</th>\n",
              "      <th>computer_edu_pay</th>\n",
              "      <th>count</th>\n",
              "    </tr>\n",
              "    <tr>\n",
              "      <th>hope_major</th>\n",
              "      <th></th>\n",
              "      <th></th>\n",
              "      <th></th>\n",
              "      <th></th>\n",
              "      <th></th>\n",
              "    </tr>\n",
              "  </thead>\n",
              "  <tbody>\n",
              "    <tr>\n",
              "      <th>0.0</th>\n",
              "      <td>933384.312267</td>\n",
              "      <td>2.218077e+06</td>\n",
              "      <td>2.622236e+06</td>\n",
              "      <td>18456.832086</td>\n",
              "      <td>21599</td>\n",
              "    </tr>\n",
              "    <tr>\n",
              "      <th>1.0</th>\n",
              "      <td>678272.299122</td>\n",
              "      <td>1.675779e+06</td>\n",
              "      <td>2.602361e+06</td>\n",
              "      <td>30288.472262</td>\n",
              "      <td>13113</td>\n",
              "    </tr>\n",
              "  </tbody>\n",
              "</table>\n",
              "</div>"
            ],
            "text/plain": [
              "            korean_edu_pay  english_edu_pay  ...  computer_edu_pay  count\n",
              "hope_major                                   ...                         \n",
              "0.0          933384.312267     2.218077e+06  ...      18456.832086  21599\n",
              "1.0          678272.299122     1.675779e+06  ...      30288.472262  13113\n",
              "\n",
              "[2 rows x 5 columns]"
            ]
          },
          "metadata": {
            "tags": []
          },
          "execution_count": 34
        }
      ]
    },
    {
      "cell_type": "code",
      "metadata": {
        "colab": {
          "base_uri": "https://localhost:8080/"
        },
        "id": "m1Ve1j6CJ1VX",
        "outputId": "0d3073d9-2690-4f14-8a20-bab958c847cc"
      },
      "source": [
        "# 각 과목별 1인당 교육비 계산\n",
        "for column in pay_by_hope.columns[:5]:\n",
        "    pay_by_hope[f'{column}_per_person'] = pay_by_hope[column]/pay_by_hope['count']\n",
        "pay_by_hope"
      ],
      "execution_count": null,
      "outputs": [
        {
          "output_type": "execute_result",
          "data": {
            "text/html": [
              "<div>\n",
              "<style scoped>\n",
              "    .dataframe tbody tr th:only-of-type {\n",
              "        vertical-align: middle;\n",
              "    }\n",
              "\n",
              "    .dataframe tbody tr th {\n",
              "        vertical-align: top;\n",
              "    }\n",
              "\n",
              "    .dataframe thead th {\n",
              "        text-align: right;\n",
              "    }\n",
              "</style>\n",
              "<table border=\"1\" class=\"dataframe\">\n",
              "  <thead>\n",
              "    <tr style=\"text-align: right;\">\n",
              "      <th></th>\n",
              "      <th>korean_edu_pay</th>\n",
              "      <th>english_edu_pay</th>\n",
              "      <th>math_edu_pay</th>\n",
              "      <th>computer_edu_pay</th>\n",
              "      <th>count</th>\n",
              "      <th>korean_edu_pay_per_person</th>\n",
              "      <th>english_edu_pay_per_person</th>\n",
              "      <th>math_edu_pay_per_person</th>\n",
              "      <th>computer_edu_pay_per_person</th>\n",
              "      <th>count_per_person</th>\n",
              "    </tr>\n",
              "    <tr>\n",
              "      <th>hope_major</th>\n",
              "      <th></th>\n",
              "      <th></th>\n",
              "      <th></th>\n",
              "      <th></th>\n",
              "      <th></th>\n",
              "      <th></th>\n",
              "      <th></th>\n",
              "      <th></th>\n",
              "      <th></th>\n",
              "      <th></th>\n",
              "    </tr>\n",
              "  </thead>\n",
              "  <tbody>\n",
              "    <tr>\n",
              "      <th>0.0</th>\n",
              "      <td>933384.312267</td>\n",
              "      <td>2.218077e+06</td>\n",
              "      <td>2.622236e+06</td>\n",
              "      <td>18456.832086</td>\n",
              "      <td>21599</td>\n",
              "      <td>43.214237</td>\n",
              "      <td>102.693489</td>\n",
              "      <td>121.405450</td>\n",
              "      <td>0.854523</td>\n",
              "      <td>1.0</td>\n",
              "    </tr>\n",
              "    <tr>\n",
              "      <th>1.0</th>\n",
              "      <td>678272.299122</td>\n",
              "      <td>1.675779e+06</td>\n",
              "      <td>2.602361e+06</td>\n",
              "      <td>30288.472262</td>\n",
              "      <td>13113</td>\n",
              "      <td>51.725181</td>\n",
              "      <td>127.795247</td>\n",
              "      <td>198.456567</td>\n",
              "      <td>2.309805</td>\n",
              "      <td>1.0</td>\n",
              "    </tr>\n",
              "  </tbody>\n",
              "</table>\n",
              "</div>"
            ],
            "text/plain": [
              "            korean_edu_pay  ...  count_per_person\n",
              "hope_major                  ...                  \n",
              "0.0          933384.312267  ...               1.0\n",
              "1.0          678272.299122  ...               1.0\n",
              "\n",
              "[2 rows x 10 columns]"
            ]
          },
          "metadata": {
            "tags": []
          },
          "execution_count": 35
        }
      ]
    },
    {
      "cell_type": "markdown",
      "metadata": {
        "id": "eDGraXH_J1VX"
      },
      "source": [
        "과목별 총합 교육비에서는 국어, 영어, 수학과목에 대하여 이공계열이 아닌 학생들이 더 많이 지출하는 것으로 보이지만,\n",
        "\n",
        "1인당 교육비로 환산해 보았을때 모든 과목에 대하여 이공계열 희망 학생들이 더 많은 비용의 교육비를 지출하는 것으로 나타났습니다.\n",
        "\n",
        "그중에서도 수학과 컴퓨터 과목에 1인당 지출비용은 이공계열 희망 학생이 아닌 학생들에 비해\n",
        "\n",
        "수학은 약 1.63배, 컴퓨터는 약 2.7배로 국어, 영어 과목에 비해 더 높은 비율의 비용을 지불하고 있습니다.\n",
        "\n",
        "---"
      ]
    },
    {
      "cell_type": "markdown",
      "metadata": {
        "id": "bTL9U3kTJ1VX"
      },
      "source": [
        "다음으로는 부모님의 경제적배경이 학생들의 진로희망과도 연관성을 보이는지 파악해보겠습니다."
      ]
    },
    {
      "cell_type": "code",
      "metadata": {
        "colab": {
          "base_uri": "https://localhost:8080/"
        },
        "id": "-dm5wSpHJ1VX",
        "outputId": "7a9645a7-1b8e-40a0-ad3e-9d3906e175f6"
      },
      "source": [
        "pd.crosstab(df[target],df['household_income']) # 희망전공 가구소득 분포"
      ],
      "execution_count": null,
      "outputs": [
        {
          "output_type": "execute_result",
          "data": {
            "text/html": [
              "<div>\n",
              "<style scoped>\n",
              "    .dataframe tbody tr th:only-of-type {\n",
              "        vertical-align: middle;\n",
              "    }\n",
              "\n",
              "    .dataframe tbody tr th {\n",
              "        vertical-align: top;\n",
              "    }\n",
              "\n",
              "    .dataframe thead th {\n",
              "        text-align: right;\n",
              "    }\n",
              "</style>\n",
              "<table border=\"1\" class=\"dataframe\">\n",
              "  <thead>\n",
              "    <tr style=\"text-align: right;\">\n",
              "      <th>household_income</th>\n",
              "      <th>1</th>\n",
              "      <th>2</th>\n",
              "      <th>3</th>\n",
              "      <th>4</th>\n",
              "      <th>5</th>\n",
              "      <th>6</th>\n",
              "      <th>7</th>\n",
              "      <th>8</th>\n",
              "    </tr>\n",
              "    <tr>\n",
              "      <th>hope_major</th>\n",
              "      <th></th>\n",
              "      <th></th>\n",
              "      <th></th>\n",
              "      <th></th>\n",
              "      <th></th>\n",
              "      <th></th>\n",
              "      <th></th>\n",
              "      <th></th>\n",
              "    </tr>\n",
              "  </thead>\n",
              "  <tbody>\n",
              "    <tr>\n",
              "      <th>0.0</th>\n",
              "      <td>1927</td>\n",
              "      <td>2965</td>\n",
              "      <td>3595</td>\n",
              "      <td>3516</td>\n",
              "      <td>3402</td>\n",
              "      <td>1818</td>\n",
              "      <td>1294</td>\n",
              "      <td>3082</td>\n",
              "    </tr>\n",
              "    <tr>\n",
              "      <th>1.0</th>\n",
              "      <td>849</td>\n",
              "      <td>1586</td>\n",
              "      <td>2015</td>\n",
              "      <td>2258</td>\n",
              "      <td>2158</td>\n",
              "      <td>1231</td>\n",
              "      <td>954</td>\n",
              "      <td>2062</td>\n",
              "    </tr>\n",
              "  </tbody>\n",
              "</table>\n",
              "</div>"
            ],
            "text/plain": [
              "household_income     1     2     3     4     5     6     7     8\n",
              "hope_major                                                      \n",
              "0.0               1927  2965  3595  3516  3402  1818  1294  3082\n",
              "1.0                849  1586  2015  2258  2158  1231   954  2062"
            ]
          },
          "metadata": {
            "tags": []
          },
          "execution_count": 36
        }
      ]
    },
    {
      "cell_type": "code",
      "metadata": {
        "colab": {
          "base_uri": "https://localhost:8080/"
        },
        "id": "hXdx0gOQJ1VY",
        "outputId": "e90df5bb-5553-426f-827f-2fbade38758e"
      },
      "source": [
        "hope_by_income = pd.crosstab(df[target],df['household_income'])\n",
        "sns.lineplot(data = hope_by_income);"
      ],
      "execution_count": null,
      "outputs": [
        {
          "output_type": "display_data",
          "data": {
            "image/png": "[encoded data removed]",
            "text/plain": [
              "<Figure size 432x288 with 1 Axes>"
            ]
          },
          "metadata": {
            "tags": []
          }
        }
      ]
    },
    {
      "cell_type": "code",
      "metadata": {
        "colab": {
          "base_uri": "https://localhost:8080/"
        },
        "id": "xnYpu7cnJ1VY",
        "outputId": "ea5ea7dd-5fb6-4c70-fe55-a339dc63360e"
      },
      "source": [
        "# 각 칼럼별로 hope_major의 비율을 나타내는 칼럼 추가\n",
        "for i in hope_by_income.columns:\n",
        "    hope_by_income[f'{i}_ratio'] = hope_by_income[i]/hope_by_income[i].sum()\n",
        "hope_by_income"
      ],
      "execution_count": null,
      "outputs": [
        {
          "output_type": "execute_result",
          "data": {
            "text/html": [
              "<div>\n",
              "<style scoped>\n",
              "    .dataframe tbody tr th:only-of-type {\n",
              "        vertical-align: middle;\n",
              "    }\n",
              "\n",
              "    .dataframe tbody tr th {\n",
              "        vertical-align: top;\n",
              "    }\n",
              "\n",
              "    .dataframe thead th {\n",
              "        text-align: right;\n",
              "    }\n",
              "</style>\n",
              "<table border=\"1\" class=\"dataframe\">\n",
              "  <thead>\n",
              "    <tr style=\"text-align: right;\">\n",
              "      <th>household_income</th>\n",
              "      <th>1</th>\n",
              "      <th>2</th>\n",
              "      <th>3</th>\n",
              "      <th>4</th>\n",
              "      <th>5</th>\n",
              "      <th>6</th>\n",
              "      <th>7</th>\n",
              "      <th>8</th>\n",
              "      <th>1_ratio</th>\n",
              "      <th>2_ratio</th>\n",
              "      <th>3_ratio</th>\n",
              "      <th>4_ratio</th>\n",
              "      <th>5_ratio</th>\n",
              "      <th>6_ratio</th>\n",
              "      <th>7_ratio</th>\n",
              "      <th>8_ratio</th>\n",
              "    </tr>\n",
              "    <tr>\n",
              "      <th>hope_major</th>\n",
              "      <th></th>\n",
              "      <th></th>\n",
              "      <th></th>\n",
              "      <th></th>\n",
              "      <th></th>\n",
              "      <th></th>\n",
              "      <th></th>\n",
              "      <th></th>\n",
              "      <th></th>\n",
              "      <th></th>\n",
              "      <th></th>\n",
              "      <th></th>\n",
              "      <th></th>\n",
              "      <th></th>\n",
              "      <th></th>\n",
              "      <th></th>\n",
              "    </tr>\n",
              "  </thead>\n",
              "  <tbody>\n",
              "    <tr>\n",
              "      <th>0.0</th>\n",
              "      <td>1927</td>\n",
              "      <td>2965</td>\n",
              "      <td>3595</td>\n",
              "      <td>3516</td>\n",
              "      <td>3402</td>\n",
              "      <td>1818</td>\n",
              "      <td>1294</td>\n",
              "      <td>3082</td>\n",
              "      <td>0.694164</td>\n",
              "      <td>0.651505</td>\n",
              "      <td>0.64082</td>\n",
              "      <td>0.608937</td>\n",
              "      <td>0.611871</td>\n",
              "      <td>0.596261</td>\n",
              "      <td>0.575623</td>\n",
              "      <td>0.599145</td>\n",
              "    </tr>\n",
              "    <tr>\n",
              "      <th>1.0</th>\n",
              "      <td>849</td>\n",
              "      <td>1586</td>\n",
              "      <td>2015</td>\n",
              "      <td>2258</td>\n",
              "      <td>2158</td>\n",
              "      <td>1231</td>\n",
              "      <td>954</td>\n",
              "      <td>2062</td>\n",
              "      <td>0.305836</td>\n",
              "      <td>0.348495</td>\n",
              "      <td>0.35918</td>\n",
              "      <td>0.391063</td>\n",
              "      <td>0.388129</td>\n",
              "      <td>0.403739</td>\n",
              "      <td>0.424377</td>\n",
              "      <td>0.400855</td>\n",
              "    </tr>\n",
              "  </tbody>\n",
              "</table>\n",
              "</div>"
            ],
            "text/plain": [
              "household_income     1     2     3  ...   6_ratio   7_ratio   8_ratio\n",
              "hope_major                          ...                              \n",
              "0.0               1927  2965  3595  ...  0.596261  0.575623  0.599145\n",
              "1.0                849  1586  2015  ...  0.403739  0.424377  0.400855\n",
              "\n",
              "[2 rows x 16 columns]"
            ]
          },
          "metadata": {
            "tags": []
          },
          "execution_count": 38
        }
      ]
    },
    {
      "cell_type": "markdown",
      "metadata": {
        "id": "mefohhdiJ1VY"
      },
      "source": [
        "household_income특성은 가구의 월평균 소득수준을 나타내는 특성으로\n",
        "\n",
        "**1 : 200만원 미만, 2 : 200 ~ 300만원 미만, 3 : 300 ~ 400만원 미만, 4 : 400 ~ 500만원 미만,**\n",
        "\n",
        "**5 : 500 ~ 600만원 미만, 6 : 600 ~ 700만원 미만, 7 : 700 ~ 800만원 미만, 8 : 800만원 이상**\n",
        "\n",
        "을 나타냅니다.\n",
        "\n",
        "모든 구간에 걸쳐서 이공계열을 희망하는 학생은 그렇지 않은 학생에 비해 적은 숫자인 것을 확인 할 수 있었으나.\n",
        "\n",
        "각 소득수준별 선택의 비율을 살펴본 결과 소득 수준이 증가할수록 이공계열을 희망하는 학생의 비율이 증가하는것 역시 확인되었습니다.\n",
        "\n",
        "---"
      ]
    },
    {
      "cell_type": "markdown",
      "metadata": {
        "id": "TD9pAygnJ1VY"
      },
      "source": [
        "### 예비모델"
      ]
    },
    {
      "cell_type": "markdown",
      "metadata": {
        "id": "XZJJ52r9J1VY"
      },
      "source": [
        "\n",
        "여기까지 살펴 보았을때 저는 각각의 특성이 실제 전공 선택에 영향을 줄 수 있으며,\n",
        "\n",
        "머신러닝을 통해 도움이 될만한 추천결과 모델을 만들 수 있겠다는 생각이 들었습니다.\n",
        "\n",
        "머신러닝 모델을 만들기전 기본적인 베이스라인을 설정하겠습니다."
      ]
    },
    {
      "cell_type": "code",
      "metadata": {
        "colab": {
          "base_uri": "https://localhost:8080/"
        },
        "id": "O4xha19zJ1VZ",
        "outputId": "88e4c84a-e61e-4e92-cde9-040408cb2aff"
      },
      "source": [
        "# target데이터의 값 비율\n",
        "df[target].value_counts(normalize = True)"
      ],
      "execution_count": null,
      "outputs": [
        {
          "output_type": "execute_result",
          "data": {
            "text/plain": [
              "0.0    0.622234\n",
              "1.0    0.377766\n",
              "Name: hope_major, dtype: float64"
            ]
          },
          "metadata": {
            "tags": []
          },
          "execution_count": 39
        }
      ]
    },
    {
      "cell_type": "code",
      "metadata": {
        "id": "MRh17cAoJ1VZ"
      },
      "source": [
        "# 타겟데이터 중 최빈값을 베이스라인 데이터로 저장\n",
        "baseline_data = [df[target].mode()[0]] * len(df[target])"
      ],
      "execution_count": null,
      "outputs": []
    },
    {
      "cell_type": "code",
      "metadata": {
        "colab": {
          "base_uri": "https://localhost:8080/"
        },
        "id": "xzx7UVwzJ1VZ",
        "outputId": "bfcbe670-df15-4e54-b49f-fca8adaf6b76"
      },
      "source": [
        "# 베이스라인 정확도 확인\n",
        "baseline_acc_score = accuracy_score(baseline_data, df[target])\n",
        "print('baseline accuracy score:', baseline_acc_score)"
      ],
      "execution_count": null,
      "outputs": [
        {
          "output_type": "stream",
          "text": [
            "baseline accuracy score: 0.6222343858031805\n"
          ],
          "name": "stdout"
        }
      ]
    },
    {
      "cell_type": "markdown",
      "metadata": {
        "id": "zhdVMimPJ1VZ"
      },
      "source": [
        "베이스라인은 타겟 데이터를 모두 최빈값인 0으로 예측할 경우의 정확도를 사용하겠습니다.\n",
        "\n",
        "계산해본 결과 정확도는 약 **62.2%**을 보이고 있습니다.\n",
        "\n",
        "---"
      ]
    },
    {
      "cell_type": "code",
      "metadata": {
        "colab": {
          "base_uri": "https://localhost:8080/"
        },
        "id": "6EjWFq3BJ1VZ",
        "outputId": "1ed45363-f8e7-4762-dcef-7d82af10783c"
      },
      "source": [
        "# train, validation, test 셋 분리\n",
        "train, test = train_test_split(df, train_size = 0.8, stratify = df[target], random_state = 2)\n",
        "train, val = train_test_split(train, train_size = 0.8, stratify = train[target], random_state = 2)\n",
        "\n",
        "train.shape, val.shape, test.shape"
      ],
      "execution_count": null,
      "outputs": [
        {
          "output_type": "execute_result",
          "data": {
            "text/plain": [
              "((22215, 45), (5554, 45), (6943, 45))"
            ]
          },
          "metadata": {
            "tags": []
          },
          "execution_count": 42
        }
      ]
    },
    {
      "cell_type": "code",
      "metadata": {
        "id": "T5ptT3XZJ1Va"
      },
      "source": [
        "# 관측데이터와 타겟데이터 분리\n",
        "X_train = train.drop(target, axis=1)\n",
        "y_train = train[target]\n",
        "\n",
        "X_val = val.drop(target, axis=1)\n",
        "y_val = val[target]\n",
        "\n",
        "X_test = test.drop(target, axis=1)\n",
        "y_test = test[target]"
      ],
      "execution_count": null,
      "outputs": []
    },
    {
      "cell_type": "markdown",
      "metadata": {
        "id": "tTsjdAzbJ1Va"
      },
      "source": [
        "본격적으로 모델을 만들기 전 랜덤포레스트를 사용한 모델로 기본적인 성능을 한번 파악해보겠습니다."
      ]
    },
    {
      "cell_type": "code",
      "metadata": {
        "colab": {
          "base_uri": "https://localhost:8080/"
        },
        "id": "vyT7Od3kJ1Va",
        "outputId": "61d3ad8d-581b-4758-9f72-9de8165a91e1"
      },
      "source": [
        "# 데이터가 모두 숫자형이고 결측치가 없으므로 encoder, imputer 생략\n",
        "\n",
        "rfc = RandomForestClassifier(random_state = 2)\n",
        "\n",
        "rfc.fit(X_train,y_train)"
      ],
      "execution_count": null,
      "outputs": [
        {
          "output_type": "execute_result",
          "data": {
            "text/plain": [
              "RandomForestClassifier(bootstrap=True, ccp_alpha=0.0, class_weight=None,\n",
              "                       criterion='gini', max_depth=None, max_features='auto',\n",
              "                       max_leaf_nodes=None, max_samples=None,\n",
              "                       min_impurity_decrease=0.0, min_impurity_split=None,\n",
              "                       min_samples_leaf=1, min_samples_split=2,\n",
              "                       min_weight_fraction_leaf=0.0, n_estimators=100,\n",
              "                       n_jobs=None, oob_score=False, random_state=2, verbose=0,\n",
              "                       warm_start=False)"
            ]
          },
          "metadata": {
            "tags": []
          },
          "execution_count": 44
        }
      ]
    },
    {
      "cell_type": "code",
      "metadata": {
        "colab": {
          "base_uri": "https://localhost:8080/"
        },
        "id": "B6--WpjpJ1Va",
        "outputId": "75e246b9-114d-403c-fb61-71848dde7624"
      },
      "source": [
        "print('train accuracy score:',rfc.score(X_train, y_train))\n",
        "print('train report\\n',classification_report(y_train, rfc.predict(X_train)))\n",
        "# 실제로 분류된 데이터 분포 확인\n",
        "plot_confusion_matrix(rfc, X_train, y_train);\n",
        "plt.title('train confusion matrix');"
      ],
      "execution_count": null,
      "outputs": [
        {
          "output_type": "stream",
          "text": [
            "train accuracy score: 0.9931577762772901\n",
            "train report\n",
            "               precision    recall  f1-score   support\n",
            "\n",
            "         0.0       0.99      1.00      0.99     13823\n",
            "         1.0       1.00      0.99      0.99      8392\n",
            "\n",
            "    accuracy                           0.99     22215\n",
            "   macro avg       0.99      0.99      0.99     22215\n",
            "weighted avg       0.99      0.99      0.99     22215\n",
            "\n"
          ],
          "name": "stdout"
        },
        {
          "output_type": "display_data",
          "data": {
            "image/png": "[encoded data removed]",
            "text/plain": [
              "<Figure size 432x288 with 2 Axes>"
            ]
          },
          "metadata": {
            "tags": []
          }
        }
      ]
    },
    {
      "cell_type": "code",
      "metadata": {
        "colab": {
          "base_uri": "https://localhost:8080/"
        },
        "id": "tfbXJsR4J1Va",
        "outputId": "c8c25920-6017-4f5b-e2e1-5067d926ace0"
      },
      "source": [
        "print('validation accuracy score:',rfc.score(X_val, y_val))\n",
        "print('validation report\\n',classification_report(y_val, rfc.predict(X_val)))\n",
        "# 실제로 분류된 데이터 분포 확인\n",
        "plot_confusion_matrix(rfc, X_val, y_val);\n",
        "plt.title('validation confusion matrix');"
      ],
      "execution_count": null,
      "outputs": [
        {
          "output_type": "stream",
          "text": [
            "validation accuracy score: 0.6647461289160965\n",
            "validation report\n",
            "               precision    recall  f1-score   support\n",
            "\n",
            "         0.0       0.70      0.82      0.75      3456\n",
            "         1.0       0.58      0.42      0.48      2098\n",
            "\n",
            "    accuracy                           0.66      5554\n",
            "   macro avg       0.64      0.62      0.62      5554\n",
            "weighted avg       0.65      0.66      0.65      5554\n",
            "\n"
          ],
          "name": "stdout"
        },
        {
          "output_type": "display_data",
          "data": {
            "image/png": "[encoded data removed]",
            "text/plain": [
              "<Figure size 432x288 with 2 Axes>"
            ]
          },
          "metadata": {
            "tags": []
          }
        }
      ]
    },
    {
      "cell_type": "markdown",
      "metadata": {
        "id": "JCsGrYewJ1Vb"
      },
      "source": [
        "피쳐엔지니어링과 하이퍼 파라미터 튜닝을 거치지 않고 기본적인 랜덤포레스트모델을 이용하여 검증데이터셋을 예측해본 결과\n",
        "\n",
        "정확도는 약 66.5%로 베이스라인인 62.2%에 비해 높은 모습을 보이지만,\n",
        "\n",
        "혼동행렬을 보았을때 이공계열학생을 그렇지 않은 경우로 예측한 경우가 많은것으로 나타났습니다.\n",
        "\n",
        "이는 타겟데이터의 불균형과 학습데이터셋에 과적합된 영향이 크게 작용한것으로 보이며\n",
        "\n",
        "이를 감안하여 피쳐엔지니어링과 하이퍼 파라미터 튜닝을 진행하겠습니다.\n",
        "\n",
        "---"
      ]
    },
    {
      "cell_type": "markdown",
      "metadata": {
        "id": "gpv0SvzaJ1Vb"
      },
      "source": [
        "### Feature Engineering"
      ]
    },
    {
      "cell_type": "code",
      "metadata": {
        "id": "-vVSbe8WJ1Vc"
      },
      "source": [
        "def engineering(df):\n",
        "    \n",
        "    # 이공계열에서 많은 비용을 지불한 수학, 컴퓨터교육 비용을 합산한 특성 생성\n",
        "    df['sci_engin_pay'] = df['math_edu_pay'] + df['computer_edu_pay']\n",
        "    \n",
        "    # 비이공계열에서 많은 비용을 지불한 국어, 영어교육 비용을 합산한 특성 생성\n",
        "    df['social_culture_pay'] = df['korean_edu_pay'] + df['english_edu_pay']\n",
        "    \n",
        "    # 월 수입대비 교육비 합산의 비율을 계산하는 특성 생성\n",
        "    df['sci_engin_per_income'] = df['sci_engin_pay'] / df['household_income']\n",
        "    df['social_culture_per_income'] = df['social_culture_pay'] / df['household_income']\n",
        "    \n",
        "    return df\n",
        "\n",
        "X_train = engineering(X_train)\n",
        "X_val = engineering(X_val)\n",
        "X_test = engineering(X_test)"
      ],
      "execution_count": null,
      "outputs": []
    },
    {
      "cell_type": "markdown",
      "metadata": {
        "id": "TKiClKSSJ1Vc"
      },
      "source": [
        "### make Models"
      ]
    },
    {
      "cell_type": "code",
      "metadata": {
        "colab": {
          "background_save": true,
          "base_uri": "https://localhost:8080/"
        },
        "id": "_SqvuytTJ1Vc",
        "outputId": "cca144c3-772d-4776-cf8f-abc40d1bd2c8"
      },
      "source": [
        "xg_model = XGBClassifier()\n",
        "\n",
        "xgb_param_grid = {'max_depth': randint(1, 10), \n",
        "                  'scale_pos_weight': randint(1, 10),\n",
        "                  'subsample': uniform(0, 1),\n",
        "                  'colsample_bytree': uniform(0, 1)}\n",
        "\n",
        "fit_params={\"early_stopping_rounds\":20,\n",
        "                \"eval_metric\" : 'error', \n",
        "                \"eval_set\" : [[X_val, y_val]]\n",
        "               }\n",
        "\n",
        "xgb_random = RandomizedSearchCV(\n",
        "    estimator = xg_model,\n",
        "    param_distributions = xgb_param_grid,\n",
        "    n_iter = 50,\n",
        "    scoring='f1_micro', # recall 넣으면 모두 1로 예측해서 데이터 불균형을 염두에둔 f1스코어 사용\n",
        "    verbose=1,\n",
        "    n_jobs=-1, \n",
        "    cv = 6, \n",
        ")\n",
        "\n",
        "xgb_random.fit(X_train,y_train, **fit_params)"
      ],
      "execution_count": null,
      "outputs": [
        {
          "output_type": "stream",
          "text": [
            "Fitting 6 folds for each of 50 candidates, totalling 300 fits\n"
          ],
          "name": "stdout"
        },
        {
          "output_type": "stream",
          "text": [
            "[Parallel(n_jobs=-1)]: Using backend LokyBackend with 2 concurrent workers.\n",
            "[Parallel(n_jobs=-1)]: Done  46 tasks      | elapsed:  1.6min\n",
            "[Parallel(n_jobs=-1)]: Done 196 tasks      | elapsed:  7.0min\n",
            "[Parallel(n_jobs=-1)]: Done 300 out of 300 | elapsed:  9.8min finished\n"
          ],
          "name": "stderr"
        },
        {
          "output_type": "stream",
          "text": [
            "[0]\tvalidation_0-error:0.354519\n",
            "Will train until validation_0-error hasn't improved in 20 rounds.\n",
            "[1]\tvalidation_0-error:0.340115\n",
            "[2]\tvalidation_0-error:0.334534\n",
            "[3]\tvalidation_0-error:0.332193\n",
            "[4]\tvalidation_0-error:0.330212\n",
            "[5]\tvalidation_0-error:0.330393\n",
            "[6]\tvalidation_0-error:0.328592\n",
            "[7]\tvalidation_0-error:0.328412\n",
            "[8]\tvalidation_0-error:0.327152\n",
            "[9]\tvalidation_0-error:0.32319\n",
            "[10]\tvalidation_0-error:0.32301\n",
            "[11]\tvalidation_0-error:0.32211\n",
            "[12]\tvalidation_0-error:0.32301\n",
            "[13]\tvalidation_0-error:0.324811\n",
            "[14]\tvalidation_0-error:0.325531\n",
            "[15]\tvalidation_0-error:0.324451\n",
            "[16]\tvalidation_0-error:0.323371\n",
            "[17]\tvalidation_0-error:0.324271\n",
            "[18]\tvalidation_0-error:0.325891\n",
            "[19]\tvalidation_0-error:0.324271\n",
            "[20]\tvalidation_0-error:0.32301\n",
            "[21]\tvalidation_0-error:0.325531\n",
            "[22]\tvalidation_0-error:0.32211\n",
            "[23]\tvalidation_0-error:0.32103\n",
            "[24]\tvalidation_0-error:0.32319\n",
            "[25]\tvalidation_0-error:0.32157\n",
            "[26]\tvalidation_0-error:0.323371\n",
            "[27]\tvalidation_0-error:0.32265\n",
            "[28]\tvalidation_0-error:0.323731\n",
            "[29]\tvalidation_0-error:0.323371\n",
            "[30]\tvalidation_0-error:0.32211\n",
            "[31]\tvalidation_0-error:0.32103\n",
            "[32]\tvalidation_0-error:0.318869\n",
            "[33]\tvalidation_0-error:0.32121\n",
            "[34]\tvalidation_0-error:0.32085\n",
            "[35]\tvalidation_0-error:0.32067\n",
            "[36]\tvalidation_0-error:0.32013\n",
            "[37]\tvalidation_0-error:0.319229\n",
            "[38]\tvalidation_0-error:0.32049\n",
            "[39]\tvalidation_0-error:0.319589\n",
            "[40]\tvalidation_0-error:0.319589\n",
            "[41]\tvalidation_0-error:0.317789\n",
            "[42]\tvalidation_0-error:0.317609\n",
            "[43]\tvalidation_0-error:0.316349\n",
            "[44]\tvalidation_0-error:0.316169\n",
            "[45]\tvalidation_0-error:0.316529\n",
            "[46]\tvalidation_0-error:0.315088\n",
            "[47]\tvalidation_0-error:0.315268\n",
            "[48]\tvalidation_0-error:0.314548\n",
            "[49]\tvalidation_0-error:0.316349\n",
            "[50]\tvalidation_0-error:0.314188\n",
            "[51]\tvalidation_0-error:0.314548\n",
            "[52]\tvalidation_0-error:0.315448\n",
            "[53]\tvalidation_0-error:0.315808\n",
            "[54]\tvalidation_0-error:0.313468\n",
            "[55]\tvalidation_0-error:0.311847\n",
            "[56]\tvalidation_0-error:0.314188\n",
            "[57]\tvalidation_0-error:0.314728\n",
            "[58]\tvalidation_0-error:0.312027\n",
            "[59]\tvalidation_0-error:0.313288\n",
            "[60]\tvalidation_0-error:0.312928\n",
            "[61]\tvalidation_0-error:0.312207\n",
            "[62]\tvalidation_0-error:0.313828\n",
            "[63]\tvalidation_0-error:0.315088\n",
            "[64]\tvalidation_0-error:0.314008\n",
            "[65]\tvalidation_0-error:0.314188\n",
            "[66]\tvalidation_0-error:0.314908\n",
            "[67]\tvalidation_0-error:0.315268\n",
            "[68]\tvalidation_0-error:0.314188\n",
            "[69]\tvalidation_0-error:0.315988\n",
            "[70]\tvalidation_0-error:0.315628\n",
            "[71]\tvalidation_0-error:0.316889\n",
            "[72]\tvalidation_0-error:0.316529\n",
            "[73]\tvalidation_0-error:0.315628\n",
            "[74]\tvalidation_0-error:0.315628\n",
            "[75]\tvalidation_0-error:0.315628\n",
            "Stopping. Best iteration:\n",
            "[55]\tvalidation_0-error:0.311847\n",
            "\n"
          ],
          "name": "stdout"
        },
        {
          "output_type": "execute_result",
          "data": {
            "text/plain": [
              "RandomizedSearchCV(cv=6, error_score=nan,\n",
              "                   estimator=XGBClassifier(base_score=0.5, booster='gbtree',\n",
              "                                           colsample_bylevel=1,\n",
              "                                           colsample_bynode=1,\n",
              "                                           colsample_bytree=1, gamma=0,\n",
              "                                           learning_rate=0.1, max_delta_step=0,\n",
              "                                           max_depth=3, min_child_weight=1,\n",
              "                                           missing=None, n_estimators=100,\n",
              "                                           n_jobs=1, nthread=None,\n",
              "                                           objective='binary:logistic',\n",
              "                                           random_state=0, reg_alpha=0,\n",
              "                                           reg_lambda=1, sc...\n",
              "                                        'max_depth': <scipy.stats._distn_infrastructure.rv_frozen object at 0x7efbd2b99050>,\n",
              "                                        'scale_pos_weight': <scipy.stats._distn_infrastructure.rv_frozen object at 0x7efbd2b99690>,\n",
              "                                        'subsample': <scipy.stats._distn_infrastructure.rv_frozen object at 0x7efbd2bf3850>},\n",
              "                   pre_dispatch='2*n_jobs', random_state=None, refit=True,\n",
              "                   return_train_score=False, scoring='f1_micro', verbose=1)"
            ]
          },
          "metadata": {
            "tags": []
          },
          "execution_count": 0
        }
      ]
    },
    {
      "cell_type": "code",
      "metadata": {
        "colab": {
          "background_save": true
        },
        "id": "cWl4yrvFJ1Vd"
      },
      "source": [
        "y_pred=xgb_random.predict(X_val)"
      ],
      "execution_count": null,
      "outputs": []
    },
    {
      "cell_type": "code",
      "metadata": {
        "colab": {
          "background_save": true
        },
        "id": "MBnA-ak2J1Vd",
        "outputId": "ca58fdec-2de9-4798-d77a-25f824e681c1"
      },
      "source": [
        "print(classification_report(y_val, y_pred))\n",
        "plot_confusion_matrix(xgb_random, X_val, y_val);\n",
        "plt.title('validation confusion matrix');"
      ],
      "execution_count": null,
      "outputs": [
        {
          "output_type": "stream",
          "text": [
            "              precision    recall  f1-score   support\n",
            "\n",
            "         0.0       0.70      0.87      0.78      3456\n",
            "         1.0       0.64      0.40      0.49      2098\n",
            "\n",
            "    accuracy                           0.69      5554\n",
            "   macro avg       0.67      0.63      0.63      5554\n",
            "weighted avg       0.68      0.69      0.67      5554\n",
            "\n"
          ],
          "name": "stdout"
        },
        {
          "output_type": "display_data",
          "data": {
            "image/png": "[encoded data removed]",
            "text/plain": [
              "<Figure size 432x288 with 2 Axes>"
            ]
          },
          "metadata": {
            "tags": []
          }
        }
      ]
    },
    {
      "cell_type": "code",
      "metadata": {
        "colab": {
          "background_save": true
        },
        "id": "gU2YCu1AJ1Vd",
        "outputId": "f410bd7d-c64c-4f3b-b315-5a082679743b"
      },
      "source": [
        "pipe = make_pipeline(\n",
        "    RandomForestClassifier(random_state=2)\n",
        ")\n",
        "dists = {\n",
        "    'randomforestclassifier__max_depth': [5, 10, 15, 20, None],\n",
        "    'randomforestclassifier__min_samples_leaf': randint(1, 10),\n",
        "    'randomforestclassifier__max_features': uniform(0, 1),\n",
        "    'randomforestclassifier__n_estimators': randint(50, 500),\n",
        "}\n",
        "clf = RandomizedSearchCV(\n",
        "    pipe,\n",
        "    param_distributions=dists,\n",
        "    n_iter=10, # 시간너무 오래걸려서 조정...\n",
        "    cv=3, # 시간너무 오래걸려서 조정...\n",
        "    scoring='f1_micro',\n",
        "    verbose=1,\n",
        "    n_jobs=-1\n",
        ")\n",
        "\n",
        "clf.fit(X_train, y_train)"
      ],
      "execution_count": null,
      "outputs": [
        {
          "output_type": "stream",
          "text": [
            "Fitting 3 folds for each of 10 candidates, totalling 30 fits\n"
          ],
          "name": "stdout"
        },
        {
          "output_type": "stream",
          "text": [
            "[Parallel(n_jobs=-1)]: Using backend LokyBackend with 2 concurrent workers.\n",
            "[Parallel(n_jobs=-1)]: Done  30 out of  30 | elapsed:  4.4min finished\n"
          ],
          "name": "stderr"
        },
        {
          "output_type": "execute_result",
          "data": {
            "text/plain": [
              "RandomizedSearchCV(cv=3, error_score=nan,\n",
              "                   estimator=Pipeline(memory=None,\n",
              "                                      steps=[('randomforestclassifier',\n",
              "                                              RandomForestClassifier(bootstrap=True,\n",
              "                                                                     ccp_alpha=0.0,\n",
              "                                                                     class_weight=None,\n",
              "                                                                     criterion='gini',\n",
              "                                                                     max_depth=None,\n",
              "                                                                     max_features='auto',\n",
              "                                                                     max_leaf_nodes=None,\n",
              "                                                                     max_samples=None,\n",
              "                                                                     min_impurity_decrease=0.0,\n",
              "                                                                     min_impurity_split=None,\n",
              "                                                                     min_samples_leaf=1,\n",
              "                                                                     min_samples_split=...\n",
              "                                        'randomforestclassifier__max_features': <scipy.stats._distn_infrastructure.rv_frozen object at 0x7efbd230ec10>,\n",
              "                                        'randomforestclassifier__min_samples_leaf': <scipy.stats._distn_infrastructure.rv_frozen object at 0x7efbd230ecd0>,\n",
              "                                        'randomforestclassifier__n_estimators': <scipy.stats._distn_infrastructure.rv_frozen object at 0x7efbd230e510>},\n",
              "                   pre_dispatch='2*n_jobs', random_state=None, refit=True,\n",
              "                   return_train_score=False, scoring='f1_micro', verbose=1)"
            ]
          },
          "metadata": {
            "tags": []
          },
          "execution_count": 0
        }
      ]
    },
    {
      "cell_type": "code",
      "metadata": {
        "colab": {
          "background_save": true
        },
        "id": "ndDWhW7MJ1Ve"
      },
      "source": [
        "pipe = clf.best_estimator_"
      ],
      "execution_count": null,
      "outputs": []
    },
    {
      "cell_type": "code",
      "metadata": {
        "colab": {
          "background_save": true
        },
        "id": "JxSFMMFKJ1Ve",
        "outputId": "b660552f-086b-45f6-c838-6d8e4ef64b10"
      },
      "source": [
        "print(classification_report(y_val, pipe.predict(X_val)))\n",
        "plot_confusion_matrix(pipe, X_val, y_val);\n",
        "plt.title('validation confusion matrix');"
      ],
      "execution_count": null,
      "outputs": [
        {
          "output_type": "stream",
          "text": [
            "              precision    recall  f1-score   support\n",
            "\n",
            "         0.0       0.70      0.86      0.77      3456\n",
            "         1.0       0.62      0.38      0.47      2098\n",
            "\n",
            "    accuracy                           0.68      5554\n",
            "   macro avg       0.66      0.62      0.62      5554\n",
            "weighted avg       0.67      0.68      0.66      5554\n",
            "\n"
          ],
          "name": "stdout"
        },
        {
          "output_type": "display_data",
          "data": {
            "image/png": "[encoded data removed]",
            "text/plain": [
              "<Figure size 432x288 with 2 Axes>"
            ]
          },
          "metadata": {
            "tags": []
          }
        }
      ]
    },
    {
      "cell_type": "markdown",
      "metadata": {
        "id": "QLHnSJeCJ1Ve"
      },
      "source": [
        "XGboost를 이용한 모델과 랜덤포레스트를 이용한 모델을 각각 랜덤서치CV를 통해 하이퍼파라미터 튜닝을 완료해 주었습니다.\n",
        "\n",
        "그 결과 두 모델 모두 정확도는 약 0.68로 나타났지만, 부스팅을 이용한 모델이\n",
        "\n",
        "가중치를 적용한 f1스코어에서 약 0.01, 그리고 재현율에서 약 0.02만큼 높은 성능을 보여주었기 때문에\n",
        "\n",
        "부스팅 모델을 채용하고 임계치 조정을 하도록 하겠습니다."
      ]
    },
    {
      "cell_type": "code",
      "metadata": {
        "colab": {
          "background_save": true
        },
        "id": "K4BmeiRCJ1Ve"
      },
      "source": [
        "y_pred_proba = xgb_random.predict_proba(X_val)[:,1]"
      ],
      "execution_count": null,
      "outputs": []
    },
    {
      "cell_type": "code",
      "metadata": {
        "colab": {
          "background_save": true
        },
        "id": "GOFaenAuJ1Ve"
      },
      "source": [
        "fpr, tpr, thresholds = roc_curve(y_val, y_pred_proba)"
      ],
      "execution_count": null,
      "outputs": []
    },
    {
      "cell_type": "code",
      "metadata": {
        "colab": {
          "background_save": true
        },
        "id": "k_kwOtsZJ1Vf"
      },
      "source": [
        "optimal_idx = np.argmax(tpr - fpr)\n",
        "threshold = thresholds[optimal_idx]"
      ],
      "execution_count": null,
      "outputs": []
    },
    {
      "cell_type": "code",
      "metadata": {
        "colab": {
          "background_save": true
        },
        "id": "m7MHlXudJ1Vf",
        "outputId": "a0c229d5-541a-49ec-d7d0-38fc696aaa64"
      },
      "source": [
        "threshold"
      ],
      "execution_count": null,
      "outputs": [
        {
          "output_type": "execute_result",
          "data": {
            "text/plain": [
              "0.37712762"
            ]
          },
          "metadata": {
            "tags": []
          },
          "execution_count": 0
        }
      ]
    },
    {
      "cell_type": "code",
      "metadata": {
        "colab": {
          "background_save": true
        },
        "id": "JDzHND4qJ1Vf"
      },
      "source": [
        "y_pred = y_pred_proba >= threshold"
      ],
      "execution_count": null,
      "outputs": []
    },
    {
      "cell_type": "code",
      "metadata": {
        "colab": {
          "background_save": true
        },
        "id": "oRDGHyp1J1Vf",
        "outputId": "1b03c78d-73a6-45d5-ec6b-fa0fb6213ffe"
      },
      "source": [
        "print(classification_report(y_val, y_pred))\n",
        "print('validation confusion matrix\\n', confusion_matrix(y_pred, y_val))"
      ],
      "execution_count": null,
      "outputs": [
        {
          "output_type": "stream",
          "text": [
            "              precision    recall  f1-score   support\n",
            "\n",
            "         0.0       0.77      0.64      0.70      3456\n",
            "         1.0       0.54      0.69      0.60      2098\n",
            "\n",
            "    accuracy                           0.66      5554\n",
            "   macro avg       0.65      0.66      0.65      5554\n",
            "weighted avg       0.68      0.66      0.66      5554\n",
            "\n",
            "validation confusion matrix\n",
            " [[2210  659]\n",
            " [1246 1439]]\n"
          ],
          "name": "stdout"
        }
      ]
    },
    {
      "cell_type": "markdown",
      "metadata": {
        "id": "nXN1qT2tJ1Vf"
      },
      "source": [
        "임계값 조정까지 거친 결과 정확도는 약 0.65로 소폭 감소하였지만,\n",
        "\n",
        "이공계열 학생을 예측한 재현율은 0.41에서 0.69로 크게 오른 모습을 보였습니다.\n",
        "\n",
        "마지막으로 최종 모델을 테스트셋에 적용해보겠습니다.\n",
        "\n",
        "---"
      ]
    },
    {
      "cell_type": "markdown",
      "metadata": {
        "id": "KaRwQmhJtoQ8"
      },
      "source": [
        "### test predict"
      ]
    },
    {
      "cell_type": "code",
      "metadata": {
        "colab": {
          "background_save": true
        },
        "id": "J0RPVX9SJ1Vf"
      },
      "source": [
        "y_test_proba = xgb_random.predict_proba(X_test)[:,1]"
      ],
      "execution_count": null,
      "outputs": []
    },
    {
      "cell_type": "code",
      "metadata": {
        "colab": {
          "background_save": true
        },
        "id": "n9w_7QxdJ1Vf"
      },
      "source": [
        "y_test_pred = y_test_proba >= threshold"
      ],
      "execution_count": null,
      "outputs": []
    },
    {
      "cell_type": "code",
      "metadata": {
        "colab": {
          "background_save": true
        },
        "id": "JIQ9JaKHJ1Vg",
        "outputId": "f5f37a01-889a-4045-be28-ed65b77160aa"
      },
      "source": [
        "print(classification_report(y_test, y_test_pred))\n",
        "print('test accuracy score:',accuracy_score(y_test, y_test_pred))\n",
        "print('test confusion matrix\\n', confusion_matrix(y_test_pred, y_test))"
      ],
      "execution_count": null,
      "outputs": [
        {
          "output_type": "stream",
          "text": [
            "              precision    recall  f1-score   support\n",
            "\n",
            "         0.0       0.76      0.62      0.68      4320\n",
            "         1.0       0.52      0.67      0.58      2623\n",
            "\n",
            "    accuracy                           0.64      6943\n",
            "   macro avg       0.64      0.64      0.63      6943\n",
            "weighted avg       0.66      0.64      0.64      6943\n",
            "\n",
            "test accuracy score: 0.6373325651735561\n",
            "test confusion matrix\n",
            " [[2663  861]\n",
            " [1657 1762]]\n"
          ],
          "name": "stdout"
        }
      ]
    },
    {
      "cell_type": "markdown",
      "metadata": {
        "id": "CFDAH75oJ1Vg"
      },
      "source": [
        "---\n",
        "최종모델로 테스트해본 결과\n",
        "\n",
        "정확도 : 약 63.7%\n",
        "\n",
        "f1score : 약 0.64\n",
        "\n",
        "재현율 : 약 0.68\n",
        "\n",
        "의 성능으로 측정되었습니다. 이는 베이스라인에 비하여 정확도는 1.5%정도 상승한 수치이며\n",
        "\n",
        "예비모델(rfc모델)에 비하여 f1score는 약 0.01 하락, 재현율은 약 0.26 상승한 수치입니다.\n",
        "\n",
        "---"
      ]
    },
    {
      "cell_type": "markdown",
      "metadata": {
        "id": "gUXs0wTBJ1Vg"
      },
      "source": [
        "이제 실제로 어떤 특성들이 이러한 결과에 영향을 끼쳤는지 확인해 보겠습니다."
      ]
    },
    {
      "cell_type": "code",
      "metadata": {
        "colab": {
          "background_save": true
        },
        "id": "mXbyck9iJ1Vg"
      },
      "source": [
        "import eli5\n",
        "from eli5.sklearn import PermutationImportance"
      ],
      "execution_count": null,
      "outputs": []
    },
    {
      "cell_type": "code",
      "metadata": {
        "colab": {
          "background_save": true
        },
        "id": "lqs7WH1eJ1Vg"
      },
      "source": [
        "permuter = PermutationImportance(\n",
        "    xgb_random, # model\n",
        "    scoring='recall', # metric\n",
        "    n_iter=5, # 다른 random seed를 사용하여 5번 반복\n",
        "    random_state=2\n",
        ")\n",
        "\n",
        "permuter.fit(X_val, y_val);"
      ],
      "execution_count": null,
      "outputs": []
    },
    {
      "cell_type": "code",
      "metadata": {
        "colab": {
          "background_save": true
        },
        "id": "dHFJu0axJ1Vg",
        "outputId": "0cbe3129-0316-4a79-fb63-4c8032280ec4"
      },
      "source": [
        "feature_names = X_val.columns.tolist()\n",
        "pd.Series(permuter.feature_importances_, feature_names).sort_values()"
      ],
      "execution_count": null,
      "outputs": [
        {
          "output_type": "execute_result",
          "data": {
            "text/plain": [
              "social_culture_per_income     -0.018017\n",
              "social_culture_pay            -0.007531\n",
              "english_edu_pay               -0.006387\n",
              "mother_age                    -0.002574\n",
              "general_personal_lesson_pay   -0.002383\n",
              "hobby_edu_pay                 -0.002097\n",
              "father_edu                    -0.000953\n",
              "total_children                -0.000572\n",
              "AMP_etc_edu_pay               -0.000286\n",
              "career_coach_time             -0.000286\n",
              "essay_edu_pay                 -0.000191\n",
              "domestic_train                 0.000000\n",
              "AMP_group_lesson_pay           0.000000\n",
              "overseas_train                 0.000000\n",
              "computer_edu_pay               0.000191\n",
              "general_academy_lesson_pay     0.000477\n",
              "general_study_paper_pay        0.000477\n",
              "career_coach_participate       0.000667\n",
              "job_edu_pay                    0.000858\n",
              "general_e_learning_pay         0.000953\n",
              "job_private_edu_time           0.001239\n",
              "general_group_lesson_pay       0.001430\n",
              "career_coach_pay               0.001716\n",
              "mother_edu                     0.002097\n",
              "AMP_personal_lesson_pay        0.002193\n",
              "korean_edu_pay                 0.002479\n",
              "parents_economic               0.002860\n",
              "physical_edu_pay               0.002955\n",
              "second_language_edu_pay        0.003432\n",
              "after_school_pay               0.004004\n",
              "household_income               0.004480\n",
              "grade                          0.004671\n",
              "music_edu_pay                  0.005052\n",
              "specialty_program              0.005815\n",
              "father_age                     0.006006\n",
              "birth_rank                     0.006673\n",
              "social_science_edu_pay         0.006768\n",
              "general_private_edu_time       0.007626\n",
              "art_edu_pay                    0.007722\n",
              "EBS_textbook_pay               0.007912\n",
              "after_school_time              0.010867\n",
              "AMP_academy_lesson_pay         0.013060\n",
              "math_edu_pay                   0.014490\n",
              "sci_engin_per_income           0.014967\n",
              "subject_program                0.022402\n",
              "sci_engin_pay                  0.022593\n",
              "AMP_private_edu_time           0.035462\n",
              "gender                         0.038132\n",
              "dtype: float64"
            ]
          },
          "metadata": {
            "tags": []
          },
          "execution_count": 0
        }
      ]
    },
    {
      "cell_type": "markdown",
      "metadata": {
        "id": "rRMP-igFJ1Vg"
      },
      "source": [
        "조금 더 보기 편하게 표시하겠습니다."
      ]
    },
    {
      "cell_type": "code",
      "metadata": {
        "colab": {
          "background_save": true
        },
        "id": "RoZfnpTqJ1Vh",
        "outputId": "a9abc037-1b46-4ecb-df58-7547923efbbe"
      },
      "source": [
        "eli5.show_weights(\n",
        "    permuter, \n",
        "    top=13, # 중요도가 0.01 이상이었던 상위 13개만 표시\n",
        "    feature_names=feature_names\n",
        ")"
      ],
      "execution_count": null,
      "outputs": [
        {
          "output_type": "execute_result",
          "data": {
            "text/html": [
              "\n",
              "    <style>\n",
              "    table.eli5-weights tr:hover {\n",
              "        filter: brightness(85%);\n",
              "    }\n",
              "</style>\n",
              "\n",
              "\n",
              "\n",
              "    \n",
              "\n",
              "    \n",
              "\n",
              "    \n",
              "\n",
              "    \n",
              "\n",
              "    \n",
              "\n",
              "    \n",
              "\n",
              "\n",
              "    \n",
              "\n",
              "    \n",
              "\n",
              "    \n",
              "\n",
              "    \n",
              "\n",
              "    \n",
              "\n",
              "    \n",
              "\n",
              "\n",
              "    \n",
              "\n",
              "    \n",
              "\n",
              "    \n",
              "\n",
              "    \n",
              "\n",
              "    \n",
              "        <table class=\"eli5-weights eli5-feature-importances\" style=\"border-collapse: collapse; border: none; margin-top: 0em; table-layout: auto;\">\n",
              "    <thead>\n",
              "    <tr style=\"border: none;\">\n",
              "        <th style=\"padding: 0 1em 0 0.5em; text-align: right; border: none;\">Weight</th>\n",
              "        <th style=\"padding: 0 0.5em 0 0.5em; text-align: left; border: none;\">Feature</th>\n",
              "    </tr>\n",
              "    </thead>\n",
              "    <tbody>\n",
              "    \n",
              "        <tr style=\"background-color: hsl(120, 100.00%, 80.00%); border: none;\">\n",
              "            <td style=\"padding: 0 1em 0 0.5em; text-align: right; border: none;\">\n",
              "                0.0381\n",
              "                \n",
              "                    &plusmn; 0.0227\n",
              "                \n",
              "            </td>\n",
              "            <td style=\"padding: 0 0.5em 0 0.5em; text-align: left; border: none;\">\n",
              "                gender\n",
              "            </td>\n",
              "        </tr>\n",
              "    \n",
              "        <tr style=\"background-color: hsl(120, 100.00%, 80.99%); border: none;\">\n",
              "            <td style=\"padding: 0 1em 0 0.5em; text-align: right; border: none;\">\n",
              "                0.0355\n",
              "                \n",
              "                    &plusmn; 0.0110\n",
              "                \n",
              "            </td>\n",
              "            <td style=\"padding: 0 0.5em 0 0.5em; text-align: left; border: none;\">\n",
              "                AMP_private_edu_time\n",
              "            </td>\n",
              "        </tr>\n",
              "    \n",
              "        <tr style=\"background-color: hsl(120, 100.00%, 86.14%); border: none;\">\n",
              "            <td style=\"padding: 0 1em 0 0.5em; text-align: right; border: none;\">\n",
              "                0.0226\n",
              "                \n",
              "                    &plusmn; 0.0043\n",
              "                \n",
              "            </td>\n",
              "            <td style=\"padding: 0 0.5em 0 0.5em; text-align: left; border: none;\">\n",
              "                sci_engin_pay\n",
              "            </td>\n",
              "        </tr>\n",
              "    \n",
              "        <tr style=\"background-color: hsl(120, 100.00%, 86.22%); border: none;\">\n",
              "            <td style=\"padding: 0 1em 0 0.5em; text-align: right; border: none;\">\n",
              "                0.0224\n",
              "                \n",
              "                    &plusmn; 0.0063\n",
              "                \n",
              "            </td>\n",
              "            <td style=\"padding: 0 0.5em 0 0.5em; text-align: left; border: none;\">\n",
              "                subject_program\n",
              "            </td>\n",
              "        </tr>\n",
              "    \n",
              "        <tr style=\"background-color: hsl(120, 100.00%, 89.61%); border: none;\">\n",
              "            <td style=\"padding: 0 1em 0 0.5em; text-align: right; border: none;\">\n",
              "                0.0150\n",
              "                \n",
              "                    &plusmn; 0.0023\n",
              "                \n",
              "            </td>\n",
              "            <td style=\"padding: 0 0.5em 0 0.5em; text-align: left; border: none;\">\n",
              "                sci_engin_per_income\n",
              "            </td>\n",
              "        </tr>\n",
              "    \n",
              "        <tr style=\"background-color: hsl(120, 100.00%, 89.84%); border: none;\">\n",
              "            <td style=\"padding: 0 1em 0 0.5em; text-align: right; border: none;\">\n",
              "                0.0145\n",
              "                \n",
              "                    &plusmn; 0.0042\n",
              "                \n",
              "            </td>\n",
              "            <td style=\"padding: 0 0.5em 0 0.5em; text-align: left; border: none;\">\n",
              "                math_edu_pay\n",
              "            </td>\n",
              "        </tr>\n",
              "    \n",
              "        <tr style=\"background-color: hsl(120, 100.00%, 90.55%); border: none;\">\n",
              "            <td style=\"padding: 0 1em 0 0.5em; text-align: right; border: none;\">\n",
              "                0.0131\n",
              "                \n",
              "                    &plusmn; 0.0067\n",
              "                \n",
              "            </td>\n",
              "            <td style=\"padding: 0 0.5em 0 0.5em; text-align: left; border: none;\">\n",
              "                AMP_academy_lesson_pay\n",
              "            </td>\n",
              "        </tr>\n",
              "    \n",
              "        <tr style=\"background-color: hsl(120, 100.00%, 91.69%); border: none;\">\n",
              "            <td style=\"padding: 0 1em 0 0.5em; text-align: right; border: none;\">\n",
              "                0.0109\n",
              "                \n",
              "                    &plusmn; 0.0078\n",
              "                \n",
              "            </td>\n",
              "            <td style=\"padding: 0 0.5em 0 0.5em; text-align: left; border: none;\">\n",
              "                after_school_time\n",
              "            </td>\n",
              "        </tr>\n",
              "    \n",
              "        <tr style=\"background-color: hsl(120, 100.00%, 93.35%); border: none;\">\n",
              "            <td style=\"padding: 0 1em 0 0.5em; text-align: right; border: none;\">\n",
              "                0.0079\n",
              "                \n",
              "                    &plusmn; 0.0068\n",
              "                \n",
              "            </td>\n",
              "            <td style=\"padding: 0 0.5em 0 0.5em; text-align: left; border: none;\">\n",
              "                EBS_textbook_pay\n",
              "            </td>\n",
              "        </tr>\n",
              "    \n",
              "        <tr style=\"background-color: hsl(120, 100.00%, 93.46%); border: none;\">\n",
              "            <td style=\"padding: 0 1em 0 0.5em; text-align: right; border: none;\">\n",
              "                0.0077\n",
              "                \n",
              "                    &plusmn; 0.0041\n",
              "                \n",
              "            </td>\n",
              "            <td style=\"padding: 0 0.5em 0 0.5em; text-align: left; border: none;\">\n",
              "                art_edu_pay\n",
              "            </td>\n",
              "        </tr>\n",
              "    \n",
              "        <tr style=\"background-color: hsl(120, 100.00%, 93.52%); border: none;\">\n",
              "            <td style=\"padding: 0 1em 0 0.5em; text-align: right; border: none;\">\n",
              "                0.0076\n",
              "                \n",
              "                    &plusmn; 0.0040\n",
              "                \n",
              "            </td>\n",
              "            <td style=\"padding: 0 0.5em 0 0.5em; text-align: left; border: none;\">\n",
              "                general_private_edu_time\n",
              "            </td>\n",
              "        </tr>\n",
              "    \n",
              "        <tr style=\"background-color: hsl(120, 100.00%, 94.04%); border: none;\">\n",
              "            <td style=\"padding: 0 1em 0 0.5em; text-align: right; border: none;\">\n",
              "                0.0068\n",
              "                \n",
              "                    &plusmn; 0.0035\n",
              "                \n",
              "            </td>\n",
              "            <td style=\"padding: 0 0.5em 0 0.5em; text-align: left; border: none;\">\n",
              "                social_science_edu_pay\n",
              "            </td>\n",
              "        </tr>\n",
              "    \n",
              "        <tr style=\"background-color: hsl(120, 100.00%, 94.10%); border: none;\">\n",
              "            <td style=\"padding: 0 1em 0 0.5em; text-align: right; border: none;\">\n",
              "                0.0067\n",
              "                \n",
              "                    &plusmn; 0.0016\n",
              "                \n",
              "            </td>\n",
              "            <td style=\"padding: 0 0.5em 0 0.5em; text-align: left; border: none;\">\n",
              "                birth_rank\n",
              "            </td>\n",
              "        </tr>\n",
              "    \n",
              "    \n",
              "        \n",
              "            <tr style=\"background-color: hsl(120, 100.00%, 94.10%); border: none;\">\n",
              "                <td colspan=\"2\" style=\"padding: 0 0.5em 0 0.5em; text-align: center; border: none; white-space: nowrap;\">\n",
              "                    <i>&hellip; 35 more &hellip;</i>\n",
              "                </td>\n",
              "            </tr>\n",
              "        \n",
              "    \n",
              "    </tbody>\n",
              "</table>\n",
              "    \n",
              "\n",
              "    \n",
              "\n",
              "\n",
              "    \n",
              "\n",
              "    \n",
              "\n",
              "    \n",
              "\n",
              "    \n",
              "\n",
              "    \n",
              "\n",
              "    \n",
              "\n",
              "\n",
              "\n"
            ],
            "text/plain": [
              "<IPython.core.display.HTML object>"
            ]
          },
          "metadata": {
            "tags": []
          },
          "execution_count": 0
        }
      ]
    },
    {
      "cell_type": "markdown",
      "metadata": {
        "id": "ZomgMaUBJ1Vh"
      },
      "source": [
        "각 특성의 중요도를 permuter를 통해 확인해본 결과\n",
        "\n",
        "가장 큰 영향을 끼친 세 가지 특성은 **학생성별**, **예체능사교육시간**, **교과프로그램** 등으로 나타났습니다.\n",
        "\n",
        "또한 학습에 거의 영향을 주지 못했다고 판단되는 특성이 17개로 나타났으며 해당 특성은 따로 분류해 놓겠습니다. "
      ]
    },
    {
      "cell_type": "code",
      "metadata": {
        "colab": {
          "background_save": true
        },
        "id": "VBm2SUrgJ1Vh",
        "outputId": "40b94da5-a18b-437d-b8df-3074cf2ccd0f"
      },
      "source": [
        "# permutation importance가 0이하인 특성명 선별\n",
        "importance_o = pd.Series(permuter.feature_importances_, feature_names).sort_values()[:17].index\n",
        "importance_o"
      ],
      "execution_count": null,
      "outputs": [
        {
          "output_type": "execute_result",
          "data": {
            "text/plain": [
              "Index(['social_culture_per_income', 'social_culture_pay', 'english_edu_pay',\n",
              "       'mother_age', 'general_personal_lesson_pay', 'hobby_edu_pay',\n",
              "       'father_edu', 'total_children', 'AMP_etc_edu_pay', 'career_coach_time',\n",
              "       'essay_edu_pay', 'domestic_train', 'AMP_group_lesson_pay',\n",
              "       'overseas_train', 'computer_edu_pay', 'general_academy_lesson_pay',\n",
              "       'general_study_paper_pay'],\n",
              "      dtype='object')"
            ]
          },
          "metadata": {
            "tags": []
          },
          "execution_count": 0
        }
      ]
    },
    {
      "cell_type": "markdown",
      "metadata": {
        "id": "NnJHkDx0J1Vh"
      },
      "source": [
        "다음으로 중요하게 판단되었던 특성들이 실제 어떤 식으로 결과 예측에 영향을 주었는지 시각화해 보겠습니다."
      ]
    },
    {
      "cell_type": "code",
      "metadata": {
        "colab": {
          "background_save": true
        },
        "id": "Fi3AMeqqJ1Vh",
        "outputId": "cd013c67-d963-4031-9aa2-f2c98572101e"
      },
      "source": [
        "features = ['gender', 'AMP_private_edu_time', 'subject_program']\n",
        "\n",
        "isolated = pdp_isolate(\n",
        "    model=xgb_random, \n",
        "    dataset=X_val, \n",
        "    model_features=X_val.columns, \n",
        "    feature=features[0]\n",
        ")\n",
        "pdp_plot(isolated, feature_name=features[0]);"
      ],
      "execution_count": null,
      "outputs": [
        {
          "output_type": "stream",
          "text": [
            "findfont: Font family ['Arial'] not found. Falling back to DejaVu Sans.\n",
            "findfont: Font family ['Arial'] not found. Falling back to DejaVu Sans.\n",
            "findfont: Font family ['Arial'] not found. Falling back to DejaVu Sans.\n",
            "findfont: Font family ['Arial'] not found. Falling back to DejaVu Sans.\n"
          ],
          "name": "stderr"
        },
        {
          "output_type": "display_data",
          "data": {
            "image/png": "[encoded data removed]",
            "text/plain": [
              "<Figure size 1080x684 with 2 Axes>"
            ]
          },
          "metadata": {
            "tags": []
          }
        }
      ]
    },
    {
      "cell_type": "markdown",
      "metadata": {
        "id": "PJ5ObSGRJ1Vi"
      },
      "source": [
        "가장 영향을 많이 끼친 **학생성별** 특성은 여학생일 경우 이공계열 희망이 아닐 것이라 예측하는 모습을 보였습니다."
      ]
    },
    {
      "cell_type": "code",
      "metadata": {
        "colab": {
          "background_save": true
        },
        "id": "5dBX76E7J1Vi",
        "outputId": "1fa984fe-2ba1-4477-ab34-2f38d85375dd"
      },
      "source": [
        "isolated = pdp_isolate(\n",
        "    model=xgb_random, \n",
        "    dataset=X_val, \n",
        "    model_features=X_val.columns, \n",
        "    feature=features[1]\n",
        ")\n",
        "pdp_plot(isolated, feature_name=features[1]);"
      ],
      "execution_count": null,
      "outputs": [
        {
          "output_type": "display_data",
          "data": {
            "image/png": "[encoded data removed]",
            "text/plain": [
              "<Figure size 1080x684 with 2 Axes>"
            ]
          },
          "metadata": {
            "tags": []
          }
        }
      ]
    },
    {
      "cell_type": "markdown",
      "metadata": {
        "id": "GzG1V6MwJ1Vi"
      },
      "source": [
        "다음으로 **예체능사교육시간** 특성입니다. 해당 특성은 값이 증가할수록 이공계열을 희망할 확률이 점차 줄어드는 음의 선형관계를 보였습니다."
      ]
    },
    {
      "cell_type": "code",
      "metadata": {
        "colab": {
          "background_save": true
        },
        "id": "ArTFDp3nJ1Vi",
        "outputId": "e0b368a5-7570-475f-a2a4-adff705ba163"
      },
      "source": [
        "isolated = pdp_isolate(\n",
        "    model=xgb_random, \n",
        "    dataset=X_val, \n",
        "    model_features=X_val.columns, \n",
        "    feature=features[2]\n",
        ")\n",
        "pdp_plot(isolated, feature_name=features[2]);"
      ],
      "execution_count": null,
      "outputs": [
        {
          "output_type": "display_data",
          "data": {
            "image/png": "[encoded data removed]",
            "text/plain": [
              "<Figure size 1080x684 with 2 Axes>"
            ]
          },
          "metadata": {
            "tags": []
          }
        }
      ]
    },
    {
      "cell_type": "markdown",
      "metadata": {
        "id": "-qqxhPyKJ1Vi"
      },
      "source": [
        "마지막으로 **교과프로그램** 특성입니다. 해당 특성은 값이 존재할때 이공계열을 희망할 가능성을 높이는 요소로 작용했습니다."
      ]
    },
    {
      "cell_type": "markdown",
      "metadata": {
        "id": "eesRtWYXJ1Vi"
      },
      "source": [
        "## 결론"
      ]
    },
    {
      "cell_type": "markdown",
      "metadata": {
        "id": "SFL7_42HJ1Vi"
      },
      "source": [
        "제가 생각하는 이 모델의 한계점은 크게 두 가지입니다.\n",
        "\n",
        "1. 타겟과 특성들의 인과관계\n",
        "* 학생들이 타겟(이공계열, 혹은 이외의 계열)을 선택하였기 때문에 특성(각 과목별 사교육)을 실시하였을 수 있다.\n",
        "* 학생의 선택과 무관하게 부모님, 선생님 등 주변 사람들로 인해 억지로 선택했을 수 있다.\n",
        "\n",
        "2. 라벨로 존재하는 학생들이 추후 만족할지 못할지는 미지수이다.\n",
        "\n",
        "다만, 연관 없어 보이는 다양한 관점, 환경을 통해 예측한 결과값은 그동안 생각하지 못한 새로운 선택지를 만들어 줄 수 있습니다.\n",
        "\n",
        "결국 선택은 학생의 몫이기에 이 모델의 결과값이 방향을 정하지 못하고 고민 중인 학생들에게 하나의 선택지이자 이정표가 될 수 있을 것이라 기대합니다."
      ]
    }
  ]
}